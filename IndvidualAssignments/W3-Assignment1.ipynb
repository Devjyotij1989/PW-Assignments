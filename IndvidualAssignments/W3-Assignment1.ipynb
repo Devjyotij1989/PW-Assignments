{
 "cells": [
  {
   "cell_type": "markdown",
   "id": "7ebfa22b-69dd-4226-b8d4-2f5308ee195d",
   "metadata": {},
   "source": [
    "Q1. Which keyword is used to create a function? Create a function to return a list of odd numbers in the\n",
    "range of 1 to 25."
   ]
  },
  {
   "cell_type": "markdown",
   "id": "d312d1dd-f4e6-43c8-8029-fe3acc710af3",
   "metadata": {},
   "source": [
    "Ans : def keyword is used to create a function."
   ]
  },
  {
   "cell_type": "code",
   "execution_count": 1,
   "id": "b645b77f-ea51-41b9-b3e4-821572c54e0f",
   "metadata": {},
   "outputs": [],
   "source": [
    "def odd_num():\n",
    "    num_list = []\n",
    "    for num in range(26):\n",
    "        if (num > 1) and (num % 2) != 0:\n",
    "            num_list.append(num)\n",
    "    return num_list"
   ]
  },
  {
   "cell_type": "code",
   "execution_count": 2,
   "id": "c3b0ebc1-0182-4e60-bb8b-06fc6feb8d9d",
   "metadata": {},
   "outputs": [
    {
     "data": {
      "text/plain": [
       "[3, 5, 7, 9, 11, 13, 15, 17, 19, 21, 23, 25]"
      ]
     },
     "execution_count": 2,
     "metadata": {},
     "output_type": "execute_result"
    }
   ],
   "source": [
    "odd_num()"
   ]
  },
  {
   "cell_type": "markdown",
   "id": "8d642f20-33f9-462f-b681-2dae127e5fe4",
   "metadata": {},
   "source": [
    "_____________________________________________"
   ]
  },
  {
   "cell_type": "markdown",
   "id": "b7eda92a-e36e-4ec3-8e80-ebbec843ceff",
   "metadata": {},
   "source": [
    "Q2. Why *args and **kwargs is used in some functions? Create a function each for *args and **kwargs\n",
    "to demonstrate their use."
   ]
  },
  {
   "cell_type": "markdown",
   "id": "cef221a4-e06b-4889-9e10-f136f3b88858",
   "metadata": {},
   "source": [
    "Ans :\n",
    "*args is used to take multiple number of parameters as inputs where number of parameters is not defined\n",
    "Example : \n",
    "def function1(*args):\n",
    "    return args\n",
    "\n",
    "function1(1,2,3,4)\n",
    "(1, 2, 3, 4)\n",
    "\n",
    "function1('a',1,[1,2,3])\n",
    "('a', 1, [1, 2, 3])\n",
    "\n",
    "**kwargs is used to take key value pair as input\n",
    "Example : \n",
    "def function2(**kwargs):\n",
    "    return kwargs\n",
    "\n",
    "function2(a=1,b=2,c=3,d=4)\n",
    "{'a': 1, 'b': 2, 'c': 3, 'd': 4}"
   ]
  },
  {
   "cell_type": "code",
   "execution_count": 3,
   "id": "058be899-75a7-47d8-9263-6403ef93ef84",
   "metadata": {},
   "outputs": [],
   "source": [
    "#Example for *args\n",
    "def function1(*args):\n",
    "    return args"
   ]
  },
  {
   "cell_type": "code",
   "execution_count": 4,
   "id": "4f69d85d-0d07-4755-922b-c2bce6828242",
   "metadata": {},
   "outputs": [
    {
     "data": {
      "text/plain": [
       "(1, 2, 3, 4)"
      ]
     },
     "execution_count": 4,
     "metadata": {},
     "output_type": "execute_result"
    }
   ],
   "source": [
    "function1(1,2,3,4)"
   ]
  },
  {
   "cell_type": "code",
   "execution_count": 5,
   "id": "232a41fb-dbb2-4e88-9839-6819c7e2ba5d",
   "metadata": {},
   "outputs": [
    {
     "data": {
      "text/plain": [
       "('a', 1, [1, 2, 3])"
      ]
     },
     "execution_count": 5,
     "metadata": {},
     "output_type": "execute_result"
    }
   ],
   "source": [
    "function1('a',1,[1,2,3])"
   ]
  },
  {
   "cell_type": "code",
   "execution_count": 6,
   "id": "bb6b0b3e-db6e-4077-8e1b-d544d0292eda",
   "metadata": {},
   "outputs": [],
   "source": [
    "#Example for **kwargs\n",
    "def function2(**kwargs):\n",
    "    return kwargs"
   ]
  },
  {
   "cell_type": "code",
   "execution_count": 7,
   "id": "5053a501-e40b-4b07-bcc1-95dcb67c51c9",
   "metadata": {},
   "outputs": [
    {
     "data": {
      "text/plain": [
       "{'a': 1, 'b': 2, 'c': 3, 'd': 4}"
      ]
     },
     "execution_count": 7,
     "metadata": {},
     "output_type": "execute_result"
    }
   ],
   "source": [
    "function2(a=1,b=2,c=3,d=4)"
   ]
  },
  {
   "cell_type": "markdown",
   "id": "9b10d2a7-443e-4422-bdef-55a7d367e819",
   "metadata": {},
   "source": [
    "______________________________________"
   ]
  },
  {
   "cell_type": "markdown",
   "id": "814668f1-c0e3-4d9d-92d1-e0e98f9919f9",
   "metadata": {},
   "source": [
    "Q3. What is an iterator in python? Name the method used to initialise the iterator object and the method\n",
    "used for iteration. Use these methods to print the first five elements of the given list [2, 4, 6, 8, 10, 12, 14,\n",
    "16, 18, 20]."
   ]
  },
  {
   "cell_type": "markdown",
   "id": "1653c16d-41a4-4f98-984c-f8ae56079df0",
   "metadata": {},
   "source": [
    "Ans :\n",
    "An iterator is an object that allows to iterate, or loop over, a sequence of elements.\n",
    "\n",
    "The method used to initialise iterator object is : iter()"
   ]
  },
  {
   "cell_type": "code",
   "execution_count": 8,
   "id": "df8e5cc9-8af5-4c7d-9915-ee19a4e42741",
   "metadata": {},
   "outputs": [],
   "source": [
    "l = [2, 4, 6, 8, 10, 12, 14, 16, 18, 20]"
   ]
  },
  {
   "cell_type": "code",
   "execution_count": 9,
   "id": "105cdd9e-bed4-4f32-be3a-d604e7bc84ce",
   "metadata": {},
   "outputs": [
    {
     "name": "stdout",
     "output_type": "stream",
     "text": [
      "2\n",
      "4\n",
      "6\n",
      "8\n",
      "10\n"
     ]
    }
   ],
   "source": [
    "l1 = iter(l)\n",
    "n = 0\n",
    "while n < 5:\n",
    "    print(next(l1))\n",
    "    n+=1"
   ]
  },
  {
   "cell_type": "markdown",
   "id": "a57096e0-a78c-4e8b-b4d0-b54ff04e95c6",
   "metadata": {},
   "source": [
    "_________________________________________________"
   ]
  },
  {
   "cell_type": "markdown",
   "id": "f888d332-b83f-4f6e-a2fe-3b643f5f6985",
   "metadata": {},
   "source": [
    "Q4. What is a generator function in python? Why yield keyword is used? Give an example of a generator\n",
    "function."
   ]
  },
  {
   "cell_type": "markdown",
   "id": "1c0a1287-79b6-420d-8c40-4fca9226f261",
   "metadata": {},
   "source": [
    "Ans : \n",
    "Generator function generates the output values in iterative way without storing them in memory. In other words these functions gives back the output in every iteration.\n",
    "\n",
    "Example :\n",
    "\n",
    "def gen1(i):\n",
    "    for j in range(i):\n",
    "        yeild(j)"
   ]
  },
  {
   "cell_type": "code",
   "execution_count": 10,
   "id": "06e7b683-1c0c-4d73-b698-8506a64c582a",
   "metadata": {},
   "outputs": [],
   "source": [
    "def gen1(i):\n",
    "    for j in range(i):\n",
    "        yield j"
   ]
  },
  {
   "cell_type": "code",
   "execution_count": 11,
   "id": "8b77d65d-2e24-4f68-9b29-b2cf91ac61c6",
   "metadata": {},
   "outputs": [
    {
     "data": {
      "text/plain": [
       "[0, 1, 2, 3, 4]"
      ]
     },
     "execution_count": 11,
     "metadata": {},
     "output_type": "execute_result"
    }
   ],
   "source": [
    "list(gen1(5))"
   ]
  },
  {
   "cell_type": "markdown",
   "id": "b8550f92-01b4-44ff-a0ca-8a0315f52f7b",
   "metadata": {},
   "source": [
    "_______________________________________"
   ]
  },
  {
   "cell_type": "markdown",
   "id": "dc8d65a9-31e4-42f5-b022-670cf43cb3df",
   "metadata": {},
   "source": [
    "Q5. Create a generator function for prime numbers less than 1000. Use the next() method to print the\n",
    "first 20 prime numbers."
   ]
  },
  {
   "cell_type": "code",
   "execution_count": 12,
   "id": "4ed1cf77-acab-4e8d-9339-3749adce0afe",
   "metadata": {},
   "outputs": [],
   "source": [
    "def prime_gen():\n",
    "    for num in range(2,1000):\n",
    "        for factor in range(2,num):\n",
    "            if(num % factor == 0):\n",
    "                break\n",
    "        else:\n",
    "            yield(num)\n",
    "                "
   ]
  },
  {
   "cell_type": "code",
   "execution_count": 13,
   "id": "89b3953c-f480-41f5-8b35-6f5b04eef194",
   "metadata": {},
   "outputs": [
    {
     "name": "stdout",
     "output_type": "stream",
     "text": [
      "2\n",
      "3\n",
      "5\n",
      "7\n",
      "11\n",
      "13\n",
      "17\n",
      "19\n",
      "23\n",
      "29\n",
      "31\n",
      "37\n",
      "41\n",
      "43\n",
      "47\n",
      "53\n",
      "59\n",
      "61\n",
      "67\n",
      "71\n"
     ]
    }
   ],
   "source": [
    "prime_num = prime_gen()\n",
    "for i in range(20):\n",
    "    print(next(iter(prime_num)))"
   ]
  },
  {
   "cell_type": "markdown",
   "id": "8186e7db-ea0f-4950-83b4-e305700f4f5d",
   "metadata": {},
   "source": [
    "___________________________________________"
   ]
  },
  {
   "cell_type": "markdown",
   "id": "0433e986-1a56-4f24-9ee3-93de93830838",
   "metadata": {},
   "source": [
    "Q6. Write a python program to print the first 10 Fibonacci numbers using a while loop."
   ]
  },
  {
   "cell_type": "code",
   "execution_count": 14,
   "id": "b9511b75-c103-438a-a063-4a3f0a5608d8",
   "metadata": {},
   "outputs": [
    {
     "name": "stdout",
     "output_type": "stream",
     "text": [
      "0\n",
      "1\n",
      "1\n",
      "2\n",
      "3\n",
      "5\n",
      "8\n",
      "13\n",
      "21\n",
      "34\n"
     ]
    }
   ],
   "source": [
    "a,b = 0,1\n",
    "i=0\n",
    "while i<10:\n",
    "    print(a)\n",
    "    i+=1\n",
    "    c=a+b\n",
    "    a=b\n",
    "    b=c"
   ]
  },
  {
   "cell_type": "markdown",
   "id": "ce0df0df-3db1-4c52-a96b-d714f4b3fcf7",
   "metadata": {},
   "source": [
    "__________________________________"
   ]
  },
  {
   "cell_type": "markdown",
   "id": "d0736357-3086-4d68-bcc2-8232bee424ec",
   "metadata": {},
   "source": [
    "Q7. Write a List Comprehension to iterate through the given string: ‘pwskills’.\n",
    "Expected output: ['p', 'w', 's', 'k', 'i', 'l', 'l', 's']"
   ]
  },
  {
   "cell_type": "code",
   "execution_count": 15,
   "id": "09dc460f-4709-49f0-b003-2de52b52584b",
   "metadata": {},
   "outputs": [
    {
     "name": "stdout",
     "output_type": "stream",
     "text": [
      "['p', 'w', 's', 'k', 'i', 'l', 'l', 's']\n"
     ]
    }
   ],
   "source": [
    "txt = 'pwskills'\n",
    "lst = [i for i in txt ]\n",
    "print(lst)"
   ]
  },
  {
   "cell_type": "markdown",
   "id": "daa8d0d8-f038-434c-81d6-f03433fd3ab9",
   "metadata": {},
   "source": [
    "______________________________________"
   ]
  },
  {
   "cell_type": "markdown",
   "id": "e558cfd8-a81a-46c0-93a4-14074747d41f",
   "metadata": {},
   "source": [
    "Q8. Write a python program to check whether a given number is Palindrome or not using a while loop."
   ]
  },
  {
   "cell_type": "code",
   "execution_count": 16,
   "id": "3112de93-5208-463d-85ea-5a86eb9c280a",
   "metadata": {},
   "outputs": [],
   "source": [
    "def pelindrome(num):\n",
    "    r_num = 0\n",
    "    while num != 0:\n",
    "        remainder = num % 10\n",
    "        r_num = r_num * 10 + remainder\n",
    "        num = num // 10\n",
    "    return r_num\n",
    "\n"
   ]
  },
  {
   "cell_type": "code",
   "execution_count": 18,
   "id": "bb5a2973-b063-4187-a6a3-b5729bfeea79",
   "metadata": {},
   "outputs": [
    {
     "name": "stdin",
     "output_type": "stream",
     "text": [
      "Enter a number to check Pelindrome : 123454321\n"
     ]
    },
    {
     "name": "stdout",
     "output_type": "stream",
     "text": [
      "123454321 is a pelindrome.\n"
     ]
    }
   ],
   "source": [
    "num = int(input(\"Enter a number to check Pelindrome :\"))\n",
    "reverse = pelindrome(num)\n",
    "if num == reverse :\n",
    "          print(f\"{num} is a pelindrome.\")\n",
    "else:\n",
    "          print(f\"{num} is not a pelindrome.\")"
   ]
  },
  {
   "cell_type": "markdown",
   "id": "0c276ccc-9e94-424a-ad39-ba035995c172",
   "metadata": {},
   "source": [
    "_______________________________________________________"
   ]
  },
  {
   "cell_type": "markdown",
   "id": "b914a2cd-deb5-4129-bcc7-1cd3634d952a",
   "metadata": {},
   "source": [
    "Q9. Write a code to print odd numbers from 1 to 100 using list comprehension."
   ]
  },
  {
   "cell_type": "code",
   "execution_count": 35,
   "id": "5c8d28d6-230d-42ce-891f-cae1ebc15c2e",
   "metadata": {},
   "outputs": [],
   "source": [
    "num_list = [i for i in range(1,101)]"
   ]
  },
  {
   "cell_type": "code",
   "execution_count": 36,
   "id": "27030884-da5c-44c9-bfd7-69f4c201b582",
   "metadata": {},
   "outputs": [
    {
     "data": {
      "text/plain": [
       "[1,\n",
       " 2,\n",
       " 3,\n",
       " 4,\n",
       " 5,\n",
       " 6,\n",
       " 7,\n",
       " 8,\n",
       " 9,\n",
       " 10,\n",
       " 11,\n",
       " 12,\n",
       " 13,\n",
       " 14,\n",
       " 15,\n",
       " 16,\n",
       " 17,\n",
       " 18,\n",
       " 19,\n",
       " 20,\n",
       " 21,\n",
       " 22,\n",
       " 23,\n",
       " 24,\n",
       " 25,\n",
       " 26,\n",
       " 27,\n",
       " 28,\n",
       " 29,\n",
       " 30,\n",
       " 31,\n",
       " 32,\n",
       " 33,\n",
       " 34,\n",
       " 35,\n",
       " 36,\n",
       " 37,\n",
       " 38,\n",
       " 39,\n",
       " 40,\n",
       " 41,\n",
       " 42,\n",
       " 43,\n",
       " 44,\n",
       " 45,\n",
       " 46,\n",
       " 47,\n",
       " 48,\n",
       " 49,\n",
       " 50,\n",
       " 51,\n",
       " 52,\n",
       " 53,\n",
       " 54,\n",
       " 55,\n",
       " 56,\n",
       " 57,\n",
       " 58,\n",
       " 59,\n",
       " 60,\n",
       " 61,\n",
       " 62,\n",
       " 63,\n",
       " 64,\n",
       " 65,\n",
       " 66,\n",
       " 67,\n",
       " 68,\n",
       " 69,\n",
       " 70,\n",
       " 71,\n",
       " 72,\n",
       " 73,\n",
       " 74,\n",
       " 75,\n",
       " 76,\n",
       " 77,\n",
       " 78,\n",
       " 79,\n",
       " 80,\n",
       " 81,\n",
       " 82,\n",
       " 83,\n",
       " 84,\n",
       " 85,\n",
       " 86,\n",
       " 87,\n",
       " 88,\n",
       " 89,\n",
       " 90,\n",
       " 91,\n",
       " 92,\n",
       " 93,\n",
       " 94,\n",
       " 95,\n",
       " 96,\n",
       " 97,\n",
       " 98,\n",
       " 99,\n",
       " 100]"
      ]
     },
     "execution_count": 36,
     "metadata": {},
     "output_type": "execute_result"
    }
   ],
   "source": [
    "new_list = [x for x in num_list if x % 2 != 0]\n",
    "new_list"
   ]
  },
  {
   "cell_type": "code",
   "execution_count": null,
   "id": "40129eb5-7300-4779-9ae8-ab66dcb43f55",
   "metadata": {},
   "outputs": [],
   "source": []
  }
 ],
 "metadata": {
  "kernelspec": {
   "display_name": "Python 3 (ipykernel)",
   "language": "python",
   "name": "python3"
  },
  "language_info": {
   "codemirror_mode": {
    "name": "ipython",
    "version": 3
   },
   "file_extension": ".py",
   "mimetype": "text/x-python",
   "name": "python",
   "nbconvert_exporter": "python",
   "pygments_lexer": "ipython3",
   "version": "3.10.8"
  }
 },
 "nbformat": 4,
 "nbformat_minor": 5
}
