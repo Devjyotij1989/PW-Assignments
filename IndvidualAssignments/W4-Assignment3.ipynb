{
 "cells": [
  {
   "cell_type": "markdown",
   "id": "6ca7a50c-39a7-4a75-b109-a9940a2ed34f",
   "metadata": {},
   "source": [
    "Q1. What is Abstraction in OOps? Explain with an example."
   ]
  },
  {
   "cell_type": "markdown",
   "id": "9a73e7bc-1ba2-41cc-9a9e-85fc4d48dc0c",
   "metadata": {},
   "source": [
    "Ans :\n",
    "In OOP, abstraction refers to the process of breaking complex systems into smaller, more manageable components. It involves hiding unnecessary information and emphasising only essential aspects."
   ]
  },
  {
   "cell_type": "code",
   "execution_count": 2,
   "id": "92da17cb-988d-42a2-ba40-ce18c957eade",
   "metadata": {},
   "outputs": [],
   "source": [
    "from abc import ABC, abstractmethod\n",
    "\n",
    "class Shape(ABC):\n",
    "    @abstractmethod\n",
    "    def area(self):\n",
    "        pass\n",
    "\n",
    "    @abstractmethod\n",
    "    def perimeter(self):\n",
    "        pass\n",
    "\n",
    "class Rectangle(Shape):\n",
    "    def __init__(self, length, width):\n",
    "        self.length = length\n",
    "        self.width = width\n",
    "\n",
    "    def area(self):\n",
    "        return self.length * self.width\n",
    "\n",
    "    def perimeter(self):\n",
    "        return 2 * (self.length + self.width)\n",
    "\n",
    "class Circle(Shape):\n",
    "    def __init__(self, radius):\n",
    "        self.radius = radius\n",
    "\n",
    "    def area(self):\n",
    "        return 3.14 * self.radius * self.radius\n",
    "\n",
    "    def perimeter(self):\n",
    "        return 2 * 3.14 * self.radius\n",
    "\n",
    "# Create objects of the subclasses\n",
    "rectangle = Rectangle(5, 4)\n",
    "circle = Circle(3)\n"
   ]
  },
  {
   "cell_type": "code",
   "execution_count": 3,
   "id": "e44da3e3-1c4d-4a34-a44d-9a6c6d46c82d",
   "metadata": {},
   "outputs": [
    {
     "name": "stdout",
     "output_type": "stream",
     "text": [
      "20\n"
     ]
    }
   ],
   "source": [
    "print(rectangle.area())\n"
   ]
  },
  {
   "cell_type": "code",
   "execution_count": 4,
   "id": "734e6362-52a4-427a-8494-8cd4dc043424",
   "metadata": {},
   "outputs": [
    {
     "name": "stdout",
     "output_type": "stream",
     "text": [
      "18\n"
     ]
    }
   ],
   "source": [
    "print(rectangle.perimeter())\n"
   ]
  },
  {
   "cell_type": "code",
   "execution_count": 5,
   "id": "b88df79d-2555-4c4b-aef6-e7c4bc86f21d",
   "metadata": {},
   "outputs": [
    {
     "name": "stdout",
     "output_type": "stream",
     "text": [
      "28.259999999999998\n"
     ]
    }
   ],
   "source": [
    "print(circle.area())\n"
   ]
  },
  {
   "cell_type": "code",
   "execution_count": 6,
   "id": "d7d3e275-5ab0-48f5-92bb-fb5422288b55",
   "metadata": {},
   "outputs": [
    {
     "name": "stdout",
     "output_type": "stream",
     "text": [
      "18.84\n"
     ]
    }
   ],
   "source": [
    "print(circle.perimeter())"
   ]
  },
  {
   "cell_type": "markdown",
   "id": "d20b4093-3e98-4d82-8880-e96a03adcf79",
   "metadata": {},
   "source": [
    "___________________________"
   ]
  },
  {
   "cell_type": "markdown",
   "id": "5275a97b-1e7c-47cf-a646-cf2f4eb5efc5",
   "metadata": {},
   "source": [
    "Q2. Differentiate between Abstraction and Encapsulation. Explain with an example."
   ]
  },
  {
   "cell_type": "markdown",
   "id": "f6df3e93-69e7-4682-b8b3-c2f3a40dda97",
   "metadata": {},
   "source": [
    "Ans :\n",
    "Abstraction :\n",
    "In OOP, abstraction refers to the process of breaking complex systems into smaller, more manageable components. It involves hiding unnecessary information and emphasising only essential aspects.\n",
    "\n",
    "Example :\n",
    "Consider a smartphone. It offers us many features, including the ability to make calls, send messages, browse the internet, and take pictures. We are not required to comprehend the complex hardware underpinnings or the minute details of how these functions are carried out. The smartphone abstracts away those specifics and gives us a task-oriented user interface.\n",
    "\n",
    "Encapsulation: \n",
    "Encapsulation refers to the grouping of related data and functions into a single unit, or class. It shields the information from unrestricted access and offers safe channels for communication.\n",
    "\n",
    "Example :\n",
    "Consider about the banking industry. There are various classes included in it, including \"Account\" and \"Transaction.\" The \"Account\" class contains the account information, including the account number and balance, and offers \"deposit\" and \"withdraw\" methods for interacting with the account. The \"Transaction\" class protects the account data and makes sure it can only be accessed by approved means by encapsulating the logic for carrying out financial transactions."
   ]
  },
  {
   "cell_type": "markdown",
   "id": "97d360fe-cd66-4688-ab3a-29451f155c39",
   "metadata": {},
   "source": [
    "___________________________"
   ]
  },
  {
   "cell_type": "markdown",
   "id": "439a2f8e-1394-43b8-be40-7e9257d9ea37",
   "metadata": {},
   "source": [
    "Q3. What is abc module in python? Why is it used?"
   ]
  },
  {
   "cell_type": "markdown",
   "id": "beab9c76-29c6-4e73-9ced-1fddfbb207bc",
   "metadata": {},
   "source": [
    "Ans :\n",
    "In Python, the abc module stands for \"Abstract Base Classes.\" It provides a mechanism to define abstract classes and interfaces in Python."
   ]
  },
  {
   "cell_type": "markdown",
   "id": "acf187c2-8185-4679-bea9-bc0a15e34629",
   "metadata": {},
   "source": [
    "______________________________________"
   ]
  },
  {
   "cell_type": "markdown",
   "id": "28d310c8-be9c-4b99-a121-5e7fb7a79009",
   "metadata": {},
   "source": [
    "Q4. How can we achieve data abstraction?"
   ]
  },
  {
   "cell_type": "markdown",
   "id": "e89b3052-b22a-403c-b118-aeaaf0f5dcb5",
   "metadata": {},
   "source": [
    "Ans :\n",
    "1. Import abstractmethod.\n",
    "2. Define abstract class : Create a class that represents the concept or entity you want to work with.\n",
    "3. Decorate the methods inside the class with @abstractmethod\n",
    "4. Create child classes for the abstract classes"
   ]
  },
  {
   "cell_type": "markdown",
   "id": "dd26b9a7-a514-4364-b4a1-8b055dc131f3",
   "metadata": {},
   "source": [
    "___________________________________"
   ]
  },
  {
   "cell_type": "markdown",
   "id": "998fed7f-e272-45f2-974d-abb495174fe3",
   "metadata": {},
   "source": [
    "Q5. Can we create an instance of an abstract class? Explain your answer."
   ]
  },
  {
   "cell_type": "markdown",
   "id": "0cb1d0d5-f586-461f-8470-8457c4aef113",
   "metadata": {},
   "source": [
    "Ans : \n",
    "No, we cannot create an instance of an abstract class in Python. Abstract classes are designed to serve as blueprints for other classes and are meant to be inherited by subclasses."
   ]
  },
  {
   "cell_type": "markdown",
   "id": "aa9e2cef-3c07-4cb7-92a8-2f314a0b8e09",
   "metadata": {},
   "source": [
    "______________________________"
   ]
  }
 ],
 "metadata": {
  "kernelspec": {
   "display_name": "Python 3 (ipykernel)",
   "language": "python",
   "name": "python3"
  },
  "language_info": {
   "codemirror_mode": {
    "name": "ipython",
    "version": 3
   },
   "file_extension": ".py",
   "mimetype": "text/x-python",
   "name": "python",
   "nbconvert_exporter": "python",
   "pygments_lexer": "ipython3",
   "version": "3.10.8"
  }
 },
 "nbformat": 4,
 "nbformat_minor": 5
}
