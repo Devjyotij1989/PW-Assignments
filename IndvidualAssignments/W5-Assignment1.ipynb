{
 "cells": [
  {
   "cell_type": "markdown",
   "id": "a0274bff-b691-449f-a51d-b62cb6befadd",
   "metadata": {},
   "source": [
    "Q1. What is an Exception in python? Write the difference between Exceptions and syntax errors"
   ]
  },
  {
   "cell_type": "markdown",
   "id": "44aae6e0-b0dc-4b6f-974e-213fa680dbb5",
   "metadata": {},
   "source": [
    "Ans :\n",
    "Exception is the phenomenon in python where a piece of code breaks or does not execute.\n",
    "\n",
    "Syntax error is when a piece of code is not working because the code if not written properly by following the rules of the language, whereas exception is the error occurs because of other reasons although the syntax is written correctly."
   ]
  },
  {
   "cell_type": "markdown",
   "id": "6c56c316-c5a3-4d49-9d91-4e533ecd6463",
   "metadata": {},
   "source": [
    "_______________"
   ]
  },
  {
   "cell_type": "markdown",
   "id": "3a3fb474-ac6b-4cc1-b670-eff34fb91f4d",
   "metadata": {},
   "source": [
    "Q2. What happens when an exception is not handled? Explain with an example."
   ]
  },
  {
   "cell_type": "markdown",
   "id": "976132eb-d2e4-45af-b491-de0708dd3977",
   "metadata": {},
   "source": [
    "Ans :\n",
    "When an exception is not handled, the code breaks at the line where the exception happens and next portion of the code does not execute.   "
   ]
  },
  {
   "cell_type": "code",
   "execution_count": 14,
   "id": "28af98c1-3419-4850-be9f-9e4e50146bf1",
   "metadata": {},
   "outputs": [
    {
     "name": "stdin",
     "output_type": "stream",
     "text": [
      "Enter first number to add : 4\n",
      "Enter second number to add : 5\n"
     ]
    },
    {
     "ename": "TypeError",
     "evalue": "can only concatenate str (not \"int\") to str",
     "output_type": "error",
     "traceback": [
      "\u001b[0;31m---------------------------------------------------------------------------\u001b[0m",
      "\u001b[0;31mTypeError\u001b[0m                                 Traceback (most recent call last)",
      "Cell \u001b[0;32mIn[14], line 4\u001b[0m\n\u001b[1;32m      2\u001b[0m a \u001b[38;5;241m=\u001b[39m \u001b[38;5;28minput\u001b[39m (\u001b[38;5;124m\"\u001b[39m\u001b[38;5;124mEnter first number to add :\u001b[39m\u001b[38;5;124m\"\u001b[39m)\n\u001b[1;32m      3\u001b[0m b \u001b[38;5;241m=\u001b[39m \u001b[38;5;28mint\u001b[39m(\u001b[38;5;28minput\u001b[39m (\u001b[38;5;124m\"\u001b[39m\u001b[38;5;124mEnter second number to add :\u001b[39m\u001b[38;5;124m\"\u001b[39m))\n\u001b[0;32m----> 4\u001b[0m c \u001b[38;5;241m=\u001b[39m \u001b[43ma\u001b[49m\u001b[38;5;241;43m+\u001b[39;49m\u001b[43mb\u001b[49m\n\u001b[1;32m      5\u001b[0m \u001b[38;5;28mprint\u001b[39m(\u001b[38;5;124mf\u001b[39m\u001b[38;5;124m\"\u001b[39m\u001b[38;5;124m Addition of \u001b[39m\u001b[38;5;132;01m{\u001b[39;00ma\u001b[38;5;132;01m}\u001b[39;00m\u001b[38;5;124m and \u001b[39m\u001b[38;5;132;01m{\u001b[39;00mb\u001b[38;5;132;01m}\u001b[39;00m\u001b[38;5;124m is \u001b[39m\u001b[38;5;132;01m{\u001b[39;00mc\u001b[38;5;132;01m}\u001b[39;00m\u001b[38;5;124m\"\u001b[39m)\n",
      "\u001b[0;31mTypeError\u001b[0m: can only concatenate str (not \"int\") to str"
     ]
    }
   ],
   "source": [
    "# Example :\n",
    "a = input (\"Enter first number to add :\")\n",
    "b = int(input (\"Enter second number to add :\"))\n",
    "c = a+b\n",
    "print(f\" Addition of {a} and {b} is {c}\")"
   ]
  },
  {
   "cell_type": "markdown",
   "id": "52334971-a792-4e97-b630-8afba5750e65",
   "metadata": {},
   "source": [
    "In the above example, print line is not executed as the TypeError is not handled at \"c=a+b\""
   ]
  },
  {
   "cell_type": "markdown",
   "id": "557da53d-81a0-439b-94ef-2d2a614e3036",
   "metadata": {},
   "source": [
    "________________________"
   ]
  },
  {
   "cell_type": "markdown",
   "id": "951f6dea-fe4d-4a8d-aa4e-5513ef22e761",
   "metadata": {},
   "source": [
    "Q3. Which Python statements are used to catch and handle exceptions? Explain with an example."
   ]
  },
  {
   "cell_type": "markdown",
   "id": "619a618e-f69d-45a1-be94-2130f2dd145f",
   "metadata": {},
   "source": [
    "Ans : \n",
    "try and except is used to catch and handle exception.\n",
    "\n",
    "Let's handle the exception for the example of Q2"
   ]
  },
  {
   "cell_type": "code",
   "execution_count": 2,
   "id": "5a3b2b6f-78b6-4120-8d0d-8a8741078226",
   "metadata": {},
   "outputs": [
    {
     "name": "stdin",
     "output_type": "stream",
     "text": [
      "Enter first number to add : 4\n",
      "Enter second number to add : 5\n"
     ]
    }
   ],
   "source": [
    "\n",
    "import logging\n",
    "logging.basicConfig (filename = \"error.log\", level = logging.ERROR)\n",
    "a = input (\"Enter first number to add :\")\n",
    "b = int(input (\"Enter second number to add :\"))\n",
    "\n",
    "try :\n",
    "    c = a+b\n",
    "except TypeError as e :\n",
    "    logging.error(\"Q3 : Error Type : <<{}>>\".format(e))\n",
    "else :\n",
    "    print(f\" Addition of {a} and {b} is {c}\")"
   ]
  },
  {
   "cell_type": "markdown",
   "id": "55f7ddf6-8b3d-4681-bf31-f176f7f0b1fc",
   "metadata": {},
   "source": [
    "_______________"
   ]
  },
  {
   "cell_type": "markdown",
   "id": "db5dc537-a7d0-4c62-a7e6-93126e0d10d8",
   "metadata": {},
   "source": [
    "Q4. Explain with an example:\n",
    "\n",
    "a : try and else\n",
    "b : finally\n",
    "c : raise"
   ]
  },
  {
   "cell_type": "markdown",
   "id": "875360ce-d635-4936-957d-fdb46d27ebf2",
   "metadata": {},
   "source": [
    "Ans :\n",
    "\n",
    "try and else : \n",
    "try block tries to execute a piece of code. Subsequent else block executes only if try block is executed without error. Otherwise subsequent except block is executed.\n",
    "\n",
    "finally :\n",
    "finally block executed in all scenarios. This gets executes irrespective of success or failure of other blocks.\n",
    "\n",
    "raise :\n",
    "raise keyword is used to create object of custom exception class"
   ]
  },
  {
   "cell_type": "code",
   "execution_count": 8,
   "id": "aa6f75b0-b6f9-4927-978c-dcb684f0bcd5",
   "metadata": {},
   "outputs": [
    {
     "name": "stdin",
     "output_type": "stream",
     "text": [
      "Enter the value for Dividend : 3\n",
      "Enter the value for Divisor : f\n"
     ]
    },
    {
     "name": "stdout",
     "output_type": "stream",
     "text": [
      "Something went wrong. Please refer the log\n"
     ]
    }
   ],
   "source": [
    "# Example \"try and else\" and \"finally\"\n",
    "import logging\n",
    "logging.basicConfig(filename = \"error.log\", level = logging.ERROR)\n",
    "a = input(\"Enter the value for Dividend :\")\n",
    "b = input(\"Enter the value for Divisor :\")\n",
    "try :\n",
    "    a = int(a)\n",
    "    b = int(b)\n",
    "    a / b\n",
    "except (ValueError, ZeroDivisionError) as e :\n",
    "    logging.error(\"Q4 : Error Type : <<{}>>\".format(e))\n",
    "    print(\"Something went wrong. Please refer the log\")\n",
    "else :\n",
    "    print(f\"{a} / {b} = {a/b}\")\n",
    "    print(\"Success\")\n",
    "finally :\n",
    "    logging.error(\"Q4 : This is completion of question 4\" )"
   ]
  },
  {
   "cell_type": "code",
   "execution_count": 16,
   "id": "14d098ce-c487-40c6-8022-f0fa3ea4d043",
   "metadata": {},
   "outputs": [],
   "source": [
    "# Example \"raise\"\n",
    "\n",
    "class validate(Exception):\n",
    "    \n",
    "    def __init__(self,msg):\n",
    "        self.msg = msg\n",
    "\n",
    "def validate_letter(vc):\n",
    "    if type(vc) != str :\n",
    "        raise validate (\"Not a string\")\n",
    "    else :\n",
    "        c = 0\n",
    "        for i in vc :\n",
    "            c+=1\n",
    "        if c > 1 :\n",
    "            raise validate (\"Only one character at a time \")\n",
    "        elif vc in vowel :\n",
    "            raise validate (\"This is a vowel\")\n",
    "        else :\n",
    "            raise validate (\"This is not a vowel\")\n",
    "        "
   ]
  },
  {
   "cell_type": "code",
   "execution_count": 19,
   "id": "fbabbbe8-eade-4f40-bbd3-a7bedf54876a",
   "metadata": {},
   "outputs": [
    {
     "name": "stdin",
     "output_type": "stream",
     "text": [
      "Enter a letter to check : d\n"
     ]
    },
    {
     "name": "stdout",
     "output_type": "stream",
     "text": [
      "Logical error. Please refer the log\n"
     ]
    }
   ],
   "source": [
    "import logging\n",
    "logging.basicConfig(filename = \"error.log\", level = logging.ERROR)\n",
    "\n",
    "try :\n",
    "    vowel = ['a','e','i','o','u']\n",
    "    vc = input(\"Enter a letter to check :\").lower()\n",
    "    validate_letter(vc)\n",
    "except validate as e:\n",
    "    logging.error(\"Q4 : Error Type : <<{}>>\".format(e))\n",
    "    print(\"Logical error. Please refer the log\")"
   ]
  },
  {
   "cell_type": "markdown",
   "id": "1de42cff-680d-4080-b76a-bc47202056fc",
   "metadata": {},
   "source": [
    "_______________"
   ]
  },
  {
   "cell_type": "markdown",
   "id": "53ab04a7-4b06-435d-aaed-70091561cefa",
   "metadata": {},
   "source": [
    "Q5. What are Custom Exceptions in python? Why do we need Custom Ex,eptions? Explain with an example."
   ]
  },
  {
   "cell_type": "markdown",
   "id": "0cba3abe-c4c3-4d27-9291-f6f7a34bdaba",
   "metadata": {},
   "source": [
    "Ans :\n",
    "\n",
    "Custom exceptions are used to handle logical errors like negative value for age. Example in question 6.\n"
   ]
  },
  {
   "cell_type": "markdown",
   "id": "602879aa-d98e-4cdc-b60b-6246e44fdc38",
   "metadata": {},
   "source": [
    "______________________________"
   ]
  },
  {
   "cell_type": "markdown",
   "id": "627a0f2e-9db4-4442-b391-aa46ab1fb39c",
   "metadata": {},
   "source": [
    "Q6. Create a custom exception class. Use this class to handle an exception."
   ]
  },
  {
   "cell_type": "code",
   "execution_count": 20,
   "id": "86ee1b65-03cd-41e5-be23-08ed7a7f7392",
   "metadata": {},
   "outputs": [],
   "source": [
    "# Example \"Custom exception\" and Question 6\n",
    "\n",
    "class validate(Exception):\n",
    "    \n",
    "    def __init__(self,msg):\n",
    "        self.msg = msg\n",
    "\n",
    "def validate_letter(vc):\n",
    "    if type(vc) != str :\n",
    "        raise validate (\"Not a string\")\n",
    "    else :\n",
    "        c = 0\n",
    "        for i in vc :\n",
    "            c+=1\n",
    "        if c > 1 :\n",
    "            raise validate (\"Only one character at a time \")\n",
    "        elif vc in vowel :\n",
    "            raise validate (\"This is a vowel\")\n",
    "        else :\n",
    "            raise validate (\"This is not a vowel\")\n",
    "        "
   ]
  },
  {
   "cell_type": "code",
   "execution_count": 23,
   "id": "3550cfaf-79dd-4174-9d0d-092cb8a0b0d0",
   "metadata": {},
   "outputs": [
    {
     "name": "stdin",
     "output_type": "stream",
     "text": [
      "Enter a letter to check : 4\n"
     ]
    },
    {
     "name": "stdout",
     "output_type": "stream",
     "text": [
      "Logical error. Please refer the log\n"
     ]
    }
   ],
   "source": [
    "import logging\n",
    "logging.basicConfig(filename = \"error.log\", level = logging.ERROR)\n",
    "\n",
    "try :\n",
    "    vowel = ['a','e','i','o','u']\n",
    "    vc = input(\"Enter a letter to check :\").lower()\n",
    "    validate_letter(vc)\n",
    "except validate as e:\n",
    "    logging.error(\"Q5 and Q6: Error Type : <<{}>>\".format(e))\n",
    "    print(\"Logical error. Please refer the log\")"
   ]
  },
  {
   "cell_type": "code",
   "execution_count": null,
   "id": "bd4e0072-e29e-4ca9-9a59-d8e0a0713174",
   "metadata": {},
   "outputs": [],
   "source": []
  }
 ],
 "metadata": {
  "kernelspec": {
   "display_name": "Python 3 (ipykernel)",
   "language": "python",
   "name": "python3"
  },
  "language_info": {
   "codemirror_mode": {
    "name": "ipython",
    "version": 3
   },
   "file_extension": ".py",
   "mimetype": "text/x-python",
   "name": "python",
   "nbconvert_exporter": "python",
   "pygments_lexer": "ipython3",
   "version": "3.10.8"
  }
 },
 "nbformat": 4,
 "nbformat_minor": 5
}
