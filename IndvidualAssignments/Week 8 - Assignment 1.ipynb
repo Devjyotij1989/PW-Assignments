{
 "cells": [
  {
   "cell_type": "code",
   "execution_count": 3,
   "id": "93cd719e",
   "metadata": {},
   "outputs": [],
   "source": [
    "import pandas as pd"
   ]
  },
  {
   "cell_type": "markdown",
   "id": "3e16d9f0",
   "metadata": {},
   "source": [
    "Q1. Create a Pandas Series that contains the following data: 4, 8, 15, 16, 23, and 42. Then, print the series."
   ]
  },
  {
   "cell_type": "code",
   "execution_count": 6,
   "id": "0f9b7152",
   "metadata": {},
   "outputs": [
    {
     "name": "stdout",
     "output_type": "stream",
     "text": [
      "0     4\n",
      "1     8\n",
      "2    15\n",
      "3    16\n",
      "4    23\n",
      "5    42\n",
      "dtype: int64\n",
      "<class 'pandas.core.series.Series'>\n"
     ]
    }
   ],
   "source": [
    "data = [4,8,15,16,23,42]\n",
    "series = pd.Series(data)\n",
    "print(series)\n",
    "print(type(series))"
   ]
  },
  {
   "cell_type": "markdown",
   "id": "91549824",
   "metadata": {},
   "source": [
    "___________________________________________"
   ]
  },
  {
   "cell_type": "markdown",
   "id": "9a93a4c5",
   "metadata": {},
   "source": [
    "Q2. Create a variable of list type containing 10 elements in it, and apply pandas.Series function on the\n",
    "variable print it."
   ]
  },
  {
   "cell_type": "code",
   "execution_count": 24,
   "id": "779a1012",
   "metadata": {},
   "outputs": [
    {
     "name": "stdout",
     "output_type": "stream",
     "text": [
      "0    36\n",
      "1    74\n",
      "2    59\n",
      "3    73\n",
      "4    57\n",
      "5    91\n",
      "6     2\n",
      "7    71\n",
      "8    20\n",
      "9    99\n",
      "dtype: int64\n",
      "<class 'pandas.core.series.Series'>\n"
     ]
    }
   ],
   "source": [
    "import random\n",
    "my_series = pd.Series([random.randint(0,100) for i in range(10)])\n",
    "print(my_series)\n",
    "print(type(my_series))"
   ]
  },
  {
   "cell_type": "markdown",
   "id": "0ee99206",
   "metadata": {},
   "source": [
    "________________________________"
   ]
  },
  {
   "cell_type": "markdown",
   "id": "892b2983",
   "metadata": {},
   "source": [
    "Q3. Create a Pandas DataFrame that contains the following data:\n",
    "__________________________\n",
    "| Name  |  Age  | Gender |\n",
    "__________________________\n",
    "| Alice |  25   | Female |\n",
    "__________________________\n",
    "| Bob   |  30   | Male   |\n",
    "__________________________\n",
    "| Claire|  27   | Female |\n",
    "__________________________"
   ]
  },
  {
   "cell_type": "code",
   "execution_count": 35,
   "id": "17fb1525",
   "metadata": {},
   "outputs": [
    {
     "name": "stdout",
     "output_type": "stream",
     "text": [
      "     Name  Age  Gender\n",
      "0   Alice   25  Female\n",
      "1     Bob   30    Male\n",
      "2  Claire   27  Female\n",
      "<class 'pandas.core.frame.DataFrame'>\n"
     ]
    }
   ],
   "source": [
    "data = {\n",
    "    'Name': ['Alice', 'Bob', 'Claire'],\n",
    "    'Age': [25, 30, 27],\n",
    "    'Gender': ['Female', 'Male', 'Female']\n",
    "}\n",
    "\n",
    "df = pd.DataFrame(data)\n",
    "print(df)\n",
    "print(type(df))"
   ]
  },
  {
   "cell_type": "markdown",
   "id": "70409670",
   "metadata": {},
   "source": [
    "___________________________"
   ]
  },
  {
   "cell_type": "markdown",
   "id": "d412861b",
   "metadata": {},
   "source": [
    "Q4. What is ‘DataFrame’ in pandas and how is it different from pandas.series? Explain with an example."
   ]
  },
  {
   "cell_type": "markdown",
   "id": "cff22240",
   "metadata": {},
   "source": [
    "Ans :\n",
    "In pandas, a DataFrame is a table-like structure that stores data in rows and columns, similar to a spreadsheet or database table. It is used for analyzing and manipulating data.\n",
    "\n",
    "On the other hand, a Series is a one-dimensional array that represents a single column of data from a DataFrame. It contains values with associated labels, forming a sequence.\n",
    "\n",
    "In simpler terms, think of a DataFrame as a table with rows and columns, while a Series is like a single column of that table."
   ]
  },
  {
   "cell_type": "code",
   "execution_count": 34,
   "id": "1de9528e",
   "metadata": {},
   "outputs": [
    {
     "name": "stdout",
     "output_type": "stream",
     "text": [
      "DataFrame:\n",
      "     Name  Age  Gender\n",
      "0   Alice   25  Female\n",
      "1     Bob   30    Male\n",
      "2  Claire   27  Female\n",
      "\n",
      "Series:\n",
      "0    25\n",
      "1    30\n",
      "2    27\n",
      "Name: Age, dtype: int64\n"
     ]
    }
   ],
   "source": [
    "import pandas as pd\n",
    "\n",
    "# Create a dictionary for DataFrame\n",
    "data = {\n",
    "    'Name': ['Alice', 'Bob', 'Claire'],\n",
    "    'Age': [25, 30, 27],\n",
    "    'Gender': ['Female', 'Male', 'Female']\n",
    "}\n",
    "\n",
    "# Create a DataFrame\n",
    "df = pd.DataFrame(data)\n",
    "print(\"DataFrame:\")\n",
    "print(df)\n",
    "print()\n",
    "\n",
    "# Create a Series\n",
    "series = df['Age']\n",
    "print(\"Series:\")\n",
    "print(series)\n"
   ]
  },
  {
   "cell_type": "markdown",
   "id": "18736f5c",
   "metadata": {},
   "source": [
    "_____________________"
   ]
  },
  {
   "cell_type": "markdown",
   "id": "f11aaeac",
   "metadata": {},
   "source": [
    "Q5. What are some common functions you can use to manipulate data in a Pandas DataFrame? Can\n",
    "you give an example of when you might use one of these functions?"
   ]
  },
  {
   "cell_type": "markdown",
   "id": "14bbb120",
   "metadata": {},
   "source": [
    "Ans : \n",
    "\n",
    "head() and tail(): Quickly view the first or last few rows of the DataFrame.\n",
    "\n",
    "info(): Get an overview of the DataFrame, including column names, data types, and non-null values.\n",
    "\n",
    "describe(): Compute summary statistics (count, mean, etc.) for numerical columns in the DataFrame.\n",
    "\n",
    "sort_values(): Sort the DataFrame based on one or more columns.\n",
    "\n",
    "groupby(): Group data based on one or more columns and perform calculations on the groups.\n",
    "\n",
    "fillna(): Fill missing values in the DataFrame with specified values or strategies.\n",
    "\n",
    "drop(): Remove rows or columns from the DataFrame based on specified labels.\n",
    "\n",
    "Few examples given below"
   ]
  },
  {
   "cell_type": "code",
   "execution_count": 8,
   "id": "9f5ffbda",
   "metadata": {},
   "outputs": [
    {
     "name": "stdout",
     "output_type": "stream",
     "text": [
      "Top 5 Records \n",
      "     Name  Age  Gender\n",
      "0   Alice   25  Female\n",
      "1     Bob   30    Male\n",
      "2  Claire   27  Female\n",
      "3   David   10    Male\n",
      "4   Emily   15  Female\n",
      "\n",
      "\n",
      "\n",
      "\n",
      "Bottom 5 Records \n",
      "       Name  Age  Gender\n",
      "5     Frank   76    Male\n",
      "6     Grace   54  Female\n",
      "7     Henry   34    Male\n",
      "8  Isabella   23  Female\n",
      "9      Jack   45    Male\n",
      "\n",
      "\n",
      "\n",
      "\n",
      "Summary Of the Data Frame \n",
      "<class 'pandas.core.frame.DataFrame'>\n",
      "RangeIndex: 10 entries, 0 to 9\n",
      "Data columns (total 3 columns):\n",
      " #   Column  Non-Null Count  Dtype \n",
      "---  ------  --------------  ----- \n",
      " 0   Name    10 non-null     object\n",
      " 1   Age     10 non-null     int64 \n",
      " 2   Gender  10 non-null     object\n",
      "dtypes: int64(1), object(2)\n",
      "memory usage: 368.0+ bytes\n",
      "None\n",
      "\n",
      "\n",
      "\n",
      "\n",
      "Stats Of the Data Frame \n",
      "            Age\n",
      "count  10.00000\n",
      "mean   33.90000\n",
      "std    19.68897\n",
      "min    10.00000\n",
      "25%    23.50000\n",
      "50%    28.50000\n",
      "75%    42.25000\n",
      "max    76.00000\n"
     ]
    }
   ],
   "source": [
    "data = {\n",
    "    'Name': ['Alice', 'Bob', 'Claire','David','Emily','Frank','Grace','Henry','Isabella','Jack'],\n",
    "    'Age': [25, 30, 27, 10, 15, 76, 54, 34, 23, 45],\n",
    "    'Gender': ['Female', 'Male', 'Female', 'Male', 'Female', 'Male', 'Female', 'Male', 'Female', 'Male']\n",
    "}\n",
    "\n",
    "df = pd.DataFrame(data)\n",
    "\n",
    "# head() \n",
    "print (\"Top 5 Records \")\n",
    "print(df.head())\n",
    "# tail()\n",
    "print(\"\")\n",
    "print(\"\")\n",
    "print(\"\")\n",
    "print(\"\")\n",
    "print (\"Bottom 5 Records \")\n",
    "print(df.tail())\n",
    "#info()\n",
    "print(\"\")\n",
    "print(\"\")\n",
    "print(\"\")\n",
    "print(\"\")\n",
    "print (\"Summary Of the Data Frame \")\n",
    "print(df.info())\n",
    "#describe()\n",
    "print(\"\")\n",
    "print(\"\")\n",
    "print(\"\")\n",
    "print(\"\")\n",
    "print (\"Stats Of the Data Frame \")\n",
    "print(df.describe())"
   ]
  },
  {
   "cell_type": "markdown",
   "id": "09d9fb58",
   "metadata": {},
   "source": [
    "_________________________"
   ]
  },
  {
   "cell_type": "markdown",
   "id": "14ed8a84",
   "metadata": {},
   "source": [
    "Q6. Which of the following is mutable in nature Series, DataFrame, Panel?"
   ]
  },
  {
   "cell_type": "markdown",
   "id": "38bc1dd4",
   "metadata": {},
   "source": [
    "Ans :\n",
    "\n",
    "Series: A pandas Series is a one-dimensional labeled array that can hold different types of data. It is similar to a column in a spreadsheet or a single variable. Series objects are mutable, which means you can modify their values, add or remove elements, and update the content.\n",
    "For example, you can change the value of a specific element in a Series, add new elements, or delete existing elements. This flexibility allows you to manipulate and update the data within the Series.\n",
    "\n",
    "DataFrame: A pandas DataFrame is a two-dimensional labeled data structure, resembling a table or a spreadsheet. It consists of rows and columns, where each column can be considered as a Series. DataFrames are mutable, allowing you to modify the values, add or remove rows and columns, and update the data within the DataFrame.\n",
    "You can modify specific values within the DataFrame, add new rows or columns, delete existing rows or columns, or update multiple values simultaneously based on certain conditions.\n",
    "\n",
    "Panel: Panels were a three-dimensional data structure in pandas, but they have been deprecated and are no longer actively recommended. Panels allowed you to work with data in three dimensions, similar to a spreadsheet with multiple sheets. However, due to limitations and complexities, Panels have been replaced by other data structures, such as MultiIndex DataFrames.\n",
    "While Panels were mutable and allowed modifications to the underlying data, it is generally recommended to use Series and DataFrames for most data analysis tasks."
   ]
  },
  {
   "cell_type": "markdown",
   "id": "e96794fe",
   "metadata": {},
   "source": [
    "__________________________________"
   ]
  },
  {
   "cell_type": "markdown",
   "id": "52f1fd39",
   "metadata": {},
   "source": [
    "Q7. Create a DataFrame using multiple Series. Explain with an example."
   ]
  },
  {
   "cell_type": "code",
   "execution_count": 9,
   "id": "7f8ab859",
   "metadata": {},
   "outputs": [
    {
     "name": "stdout",
     "output_type": "stream",
     "text": [
      "     Name  Age  Gender\n",
      "0   Alice   25  Female\n",
      "1     Bob   30    Male\n",
      "2  Claire   27  Female\n"
     ]
    }
   ],
   "source": [
    "import pandas as pd\n",
    "\n",
    "# Create Series objects\n",
    "name_series = pd.Series(['Alice', 'Bob', 'Claire'])\n",
    "age_series = pd.Series([25, 30, 27])\n",
    "gender_series = pd.Series(['Female', 'Male', 'Female'])\n",
    "\n",
    "# Combine Series into DataFrame\n",
    "df = pd.DataFrame({'Name': name_series, 'Age': age_series, 'Gender': gender_series})\n",
    "print(df)\n"
   ]
  },
  {
   "cell_type": "markdown",
   "id": "c970d9c8",
   "metadata": {},
   "source": [
    "Explaination :\n",
    "In this example, we create three separate Series objects: name_series, age_series, and gender_series. Each Series corresponds to a specific column of data. We then use the pd.DataFrame() function and pass in a dictionary where the keys are column names and the values are the corresponding Series objects. The resulting DataFrame df combines the Series objects into a single DataFrame."
   ]
  },
  {
   "cell_type": "markdown",
   "id": "dc2b82bc",
   "metadata": {},
   "source": [
    "_________________"
   ]
  }
 ],
 "metadata": {
  "kernelspec": {
   "display_name": "Python 3 (ipykernel)",
   "language": "python",
   "name": "python3"
  },
  "language_info": {
   "codemirror_mode": {
    "name": "ipython",
    "version": 3
   },
   "file_extension": ".py",
   "mimetype": "text/x-python",
   "name": "python",
   "nbconvert_exporter": "python",
   "pygments_lexer": "ipython3",
   "version": "3.10.9"
  }
 },
 "nbformat": 4,
 "nbformat_minor": 5
}
