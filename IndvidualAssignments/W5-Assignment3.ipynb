{
 "cells": [
  {
   "cell_type": "markdown",
   "id": "e6f696db-41a5-42d2-8403-3d1e10e7f2e5",
   "metadata": {},
   "source": [
    "Q1. \n",
    "\n",
    "What is multithreading in python? \n",
    "\n",
    "Why is it used? \n",
    "\n",
    "Name the module used to handle threads in python"
   ]
  },
  {
   "cell_type": "markdown",
   "id": "a944a884-7aba-46d4-b0a2-98fa40870547",
   "metadata": {},
   "source": [
    "Ans :\n",
    "    \n",
    "Python allows for the concurrent execution of multiple threads within a single process, which is referred to as multithreading.\n",
    "\n",
    "\n",
    "Python uses multithreading to execute multiple threads concurrently within a single process in order to increase concurrency, responsiveness, and performance. It enables effective system resource utilisation and may be especially helpful in workloads that are I/O-bound and in situations where parallelism is feasible.\n",
    "\n",
    "The module used to handle threads is : threading"
   ]
  },
  {
   "cell_type": "markdown",
   "id": "491e869c-c568-47bc-b9da-2b160fda64b7",
   "metadata": {},
   "source": [
    "______________"
   ]
  },
  {
   "cell_type": "markdown",
   "id": "3402105d-e0f3-42e8-99c7-e1a7248832a7",
   "metadata": {},
   "source": [
    "Q2. \n",
    "\n",
    "Why threading module used? Write the use of the following functions\n",
    "\n",
    "1. activeCount()\n",
    "2. currentThread()\n",
    "3. enumerate()"
   ]
  },
  {
   "cell_type": "markdown",
   "id": "6daa0abf-924e-4468-8174-ba4289f0631b",
   "metadata": {},
   "source": [
    "Ans :\n",
    "\n",
    "Python's threading module is used to implement multithreading, which enables the running of multiple threads concurrently within a single process.\n",
    "\n",
    "1. activeCount() : The activeCount() function returns the number of active threads in Python.\n",
    "2. currentThread() : The currentThread() function retrieves the currently executing thread object.\n",
    "3. enumerate() : The enumerate() function is used to iterate over a sequence with indices."
   ]
  },
  {
   "cell_type": "markdown",
   "id": "e14b8bb6-33f9-4027-aac3-e4aed96e0834",
   "metadata": {},
   "source": [
    "______________"
   ]
  },
  {
   "cell_type": "markdown",
   "id": "d31f6b48-c600-47cf-8756-f62244c6509a",
   "metadata": {},
   "source": [
    "Q3. \n",
    "\n",
    "Explain the following functions1\n",
    "1. run()\n",
    "2. start()\n",
    "3. join()\n",
    "4. isAlive()"
   ]
  },
  {
   "cell_type": "markdown",
   "id": "7fd30c5b-fae1-42cd-9db0-af4006a53929",
   "metadata": {},
   "source": [
    "Ans :\n",
    "\n",
    "1. run() : The run() function starts the execution of a thread's target function.\n",
    "2. start() : The start() function initiates the execution of a thread.\n",
    "3. join() : The join() function is used to wait for the completion of a thread. \n",
    "4. isAlive() : The isAlive() function is used to determine if a thread is currently executing."
   ]
  },
  {
   "cell_type": "markdown",
   "id": "4314fdc4-eadb-415f-8864-9504def0606a",
   "metadata": {},
   "source": [
    "__________"
   ]
  },
  {
   "cell_type": "markdown",
   "id": "b1eb6036-3081-4a24-9bf3-f5d1f4e8c501",
   "metadata": {},
   "source": [
    "Q4. Write a python program to create two threads. Thread one must print the list of squares and thread\n",
    "two must print the list of cubes"
   ]
  },
  {
   "cell_type": "code",
   "execution_count": 1,
   "id": "bde4447b-4f31-40e6-8217-e4cbfd4b03b2",
   "metadata": {},
   "outputs": [
    {
     "name": "stdout",
     "output_type": "stream",
     "text": [
      "List of squares: [1, 4, 9, 16, 25, 36, 49, 64, 81, 100]\n",
      "List of cubes: [1, 8, 27, 64, 125, 216, 343, 512, 729, 1000]\n",
      "Program execution completed.\n"
     ]
    }
   ],
   "source": [
    "import threading\n",
    "\n",
    "def print_squares(n):\n",
    "    squares = [num ** 2 for num in range(1, n+1)]\n",
    "    print(\"List of squares:\", squares)\n",
    "\n",
    "def print_cubes(n):\n",
    "    cubes = [num ** 3 for num in range(1, n+1)]\n",
    "    print(\"List of cubes:\", cubes)\n",
    "\n",
    "# Set the value for generating squares and cubes\n",
    "n = 10\n",
    "\n",
    "# Create the first thread for printing squares\n",
    "thread1 = threading.Thread(target=print_squares, args=(n,))\n",
    "\n",
    "# Create the second thread for printing cubes\n",
    "thread2 = threading.Thread(target=print_cubes, args=(n,))\n",
    "\n",
    "# Start both threads\n",
    "thread1.start()\n",
    "thread2.start()\n",
    "\n",
    "# Wait for both threads to finish\n",
    "thread1.join()\n",
    "thread2.join()\n",
    "\n",
    "print(\"Program execution completed.\")"
   ]
  },
  {
   "cell_type": "markdown",
   "id": "bd413ff7-72af-4ca8-bd3c-47f831ea7ef9",
   "metadata": {},
   "source": [
    "______________________"
   ]
  },
  {
   "cell_type": "markdown",
   "id": "af0178c4-3b42-4994-b418-87061055f00a",
   "metadata": {},
   "source": [
    "Q5. State advantages and disadvantages of multithreading"
   ]
  },
  {
   "cell_type": "markdown",
   "id": "ea7e5008-5f19-49df-b5fd-d4dd2dfce91d",
   "metadata": {},
   "source": [
    "Ans :\n",
    "\n",
    "Advantages of Multithreading :\n",
    "\n",
    "Concurrency : Multithreading enables the simultaneous execution of multiple threads within a single process, allowing for the advancement of tasks. Performance and responsiveness may be enhanced as a result, particularly in applications that use I/O operations or tasks that can be performed in parallel.\n",
    "\n",
    "Responsiveness : Multithreading keeps the user interface from becoming unresponsive by running time-consuming tasks in separate threads. This is especially helpful for GUI applications because responsiveness is essential for a positive user experience in these programmes.\n",
    "\n",
    "Resource Utilization : CPU cores can be used more effectively on a system thanks to multithreading. It is possible to take advantage of the available processing power and improve performance in some situations by splitting a programme into multiple threads.\n",
    "\n",
    "Task Decomposition : Task decomposition is facilitated by multithreading and enables the division of a complex task into more manageable, smaller units. By dividing the work into logical units, this can make the program's design and implementation simpler.\n",
    "\n",
    "Disadvantages of Multithreading :\n",
    "\n",
    "Complexity : When compared to single-threaded programmes, multithreaded programmes can be more difficult to design, implement, and debug. Multiple threads present difficulties like race conditions, deadlocks, and synchronisation problems. Careful consideration is needed when managing thread interactions and ensuring thread security.\n",
    "\n",
    "Resource Contention : Resource contention can happen when multiple threads access the same shared resources at the same time. As threads might have to wait for exclusive access to shared resources, contentions can cause performance degradation. To reduce contention and maintain data integrity, proper synchronisation mechanisms must be put in place.\n",
    "\n",
    "Testing and Debugging : Due to the non-deterministic behaviour brought on by thread scheduling and timing issues, debugging multithreaded programmes can be difficult. It can take some time to locate and fix problems with thread interactions, such as race conditions. It is also more difficult to thoroughly test multithreaded code for accuracy and dependability.\n",
    "\n",
    "Increased Overhead : The creation, management, and context switching of threads cause overhead when multithreading. Performance may be impacted by the extra coordination and synchronisation mechanisms needed to guarantee thread safety. In some circumstances, the costs associated with thread management may outweigh the advantages of parallel processing."
   ]
  },
  {
   "cell_type": "markdown",
   "id": "e100e1c7-d118-40b4-85f0-38a45a96a53c",
   "metadata": {},
   "source": [
    "Q6 : Explain deadlocks and race conditions."
   ]
  },
  {
   "cell_type": "markdown",
   "id": "623cf41c-3d4a-4ea9-b74e-9b3f71c2d5a2",
   "metadata": {},
   "source": [
    "Deadlocks:\n",
    "\n",
    "When two or more threads or processes in a multithreaded or multiprocess environment are unable to move forward because one is waiting for a resource that another thread or process is holding, this situation is known as a deadlock. To put it another way, a deadlock is a situation in which a number of threads or processes are held up indefinitely while they wait for one another to release the resources they are holding.\n",
    "\n"
   ]
  }
 ],
 "metadata": {
  "kernelspec": {
   "display_name": "Python 3 (ipykernel)",
   "language": "python",
   "name": "python3"
  },
  "language_info": {
   "codemirror_mode": {
    "name": "ipython",
    "version": 3
   },
   "file_extension": ".py",
   "mimetype": "text/x-python",
   "name": "python",
   "nbconvert_exporter": "python",
   "pygments_lexer": "ipython3",
   "version": "3.10.8"
  }
 },
 "nbformat": 4,
 "nbformat_minor": 5
}
