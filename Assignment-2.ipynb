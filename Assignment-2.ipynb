{
 "cells": [
  {
   "cell_type": "markdown",
   "id": "24caa4a9-7bba-4e24-bbce-eec092b9298c",
   "metadata": {},
   "source": [
    "Q1. How do you comment code in Python? What are the different types of comments?"
   ]
  },
  {
   "cell_type": "markdown",
   "id": "3bd6a153-8a11-4a49-ae6e-ea80688687df",
   "metadata": {},
   "source": [
    "Ans : \n",
    "Python supports 2 types of comments.\n",
    "1. Single Line comment :\n",
    "For single line comment, we use # and then the text. Here python will ignore everything after # in the same line.\n",
    "\n",
    "Example : # This is a single line comment\n",
    "\n",
    "\n",
    "2. Multiline comment :\n",
    "We can use 3 single quotes or 3 double quotes at the begeining and at the end of the content for multiline comments. Here python will ignore everything inside the triple quotes. \n",
    "Note : If 3 single quotes are added at the begeinning the same should be added at the end. Same applies for double quotes.\n",
    "\n",
    "Example :\n",
    "\n",
    "'''\n",
    "This is a multi-line comment.\n",
    "It can span across multiple lines.\n",
    "'''\n",
    "\n",
    "\"\"\"\n",
    "This is another way to create a multi-line comment.\n",
    "\"\"\"\n",
    "\n"
   ]
  },
  {
   "cell_type": "markdown",
   "id": "1126a012-c225-44eb-8909-9fdb49d6f66c",
   "metadata": {},
   "source": [
    "____________________________________________________________________________________"
   ]
  },
  {
   "cell_type": "markdown",
   "id": "16c08d11-f5d2-4506-88a2-0c98562868fa",
   "metadata": {},
   "source": [
    "Q2. What are variables in Python? How do you declare and assign values to variables?"
   ]
  },
  {
   "cell_type": "markdown",
   "id": "dc621d1c-d6aa-4884-9c58-41ec1991e12c",
   "metadata": {},
   "source": [
    "Ans : \n",
    "Variables are used to store and manipulate data in Python. A variable is a name that designates a place in memory where a value is kept. Data of all kinds, including numbers, strings, lists, and more complex objects, can be stored in variables.\n",
    "\n",
    "The following syntax can be used to declare and assign a value to a variable in Python:\n",
    "variable_name = value\n",
    "\n",
    "Example :\n",
    "name = \"John\"\n",
    "age = 25\n",
    "is_student = True\n"
   ]
  },
  {
   "cell_type": "markdown",
   "id": "c0721133-e366-4b6e-b321-eb9201170835",
   "metadata": {},
   "source": [
    "____________________________________________"
   ]
  },
  {
   "cell_type": "markdown",
   "id": "86d0879f-f267-414c-a197-2684dcea96c0",
   "metadata": {},
   "source": [
    "Q3. How do you convert one data type to another in Python?"
   ]
  },
  {
   "cell_type": "markdown",
   "id": "90cb8013-e181-4866-84cd-ce9f67e8c8b6",
   "metadata": {},
   "source": [
    "'''Ans :\n",
    "Using type conversion functions or the constructor functions for the desired data type, we can change the data type in Python. \n",
    "\n",
    "Several frequently used type conversion functions are listed below:\n",
    "x = int(3.14)  # x will be 3\n",
    "y = float(\"5.6\")  # y will be 5.6\n",
    "z = str(42)  # z will be \"42\"\n",
    "a = bool(0)  # a will be False\n",
    "\n",
    "\n",
    "We can convert a value to a list, tuple, set, or dictionary data type, respectively, using the list(), tuple(), set(), and dict() functions.\n",
    "\n",
    "Example :\n",
    "b = list(\"hello\")  # b will be ['h', 'e', 'l', 'l', 'o']\n",
    "c = tuple([1, 2, 3])  # c will be (1, 2, 3)\n",
    "d = set([1, 2, 2, 3])  # d will be {1, 2, 3}\n",
    "e = dict([('a', 1), ('b', 2)])  # e will be {'a': 1, 'b': 2}\n",
    "\n",
    "As an alternative, you can directly transform values into the desired data type using constructor functions.\n",
    "\n",
    "Example :\n",
    "x = int(3.14)  # x will be 3\n",
    "y = float(\"5.6\")  # y will be 5.6\n",
    "z = str(42)  # z will be \"42\"\n",
    "a = bool(0)  # a will be False\n",
    "b = list(\"hello\")  # b will be ['h', 'e', 'l', 'l', 'o']\n",
    "c = tuple([1, 2, 3])  # c will be (1, 2, 3)\n",
    "d = set([1, 2, 2, 3])  # d will be {1, 2, 3}\n",
    "e = dict([('a', 1), ('b', 2)])  # e will be {'a': 1, 'b': 2}\n",
    "'''\n"
   ]
  },
  {
   "cell_type": "markdown",
   "id": "7b68df44-39c3-4209-b6c6-d42919140f3a",
   "metadata": {},
   "source": [
    "________________________________________________________"
   ]
  },
  {
   "cell_type": "markdown",
   "id": "f431e0f7-a864-4bbe-8b02-be552404e5c6",
   "metadata": {},
   "source": [
    "Q4. How do you write and execute a Python script from the command line?"
   ]
  },
  {
   "cell_type": "markdown",
   "id": "3f1ef794-c396-40d3-86ac-1c73643bd161",
   "metadata": {},
   "source": [
    "Ans :\n",
    "Follow these steps to create and run a Python script from the command line:\n",
    "1. Write the Python script in a text editor after opening it. Use the.py extension when saving the file. As an illustration, we could make a file called myscript.py and put the code inside of it.\n",
    "\n",
    "2. Open the command line or terminal on the computer.\n",
    "\n",
    "3. Use the cd command to move to the directory where the Python script is stored. We can access the script, for instance, if it is saved in the Documents folder by running:\n",
    "\n",
    "cd Documents\n",
    "\n",
    "4. Following the python command and the name of the script file, we can run the Python script once we are in the correct directory. Run: for instance, to run myscript.py\n",
    "\n",
    "python myscript.py\n",
    "\n",
    "5. The script will be run by the Python interpreter, and any output (if any) will be shown in the terminal or command line."
   ]
  },
  {
   "cell_type": "markdown",
   "id": "6b8e2561-a581-4ae3-9457-2a05825a0fb2",
   "metadata": {},
   "source": [
    "___________________________________________"
   ]
  },
  {
   "cell_type": "markdown",
   "id": "650a1883-737b-4c89-ab42-23d94a666379",
   "metadata": {},
   "source": [
    "Q5. Given a list my_list = [1, 2, 3, 4, 5], write the code to slice the list and obtain the sub-list [2, 3]."
   ]
  },
  {
   "cell_type": "code",
   "execution_count": 4,
   "id": "57e42c97-87bb-41c8-b3b6-61fc9ad61c47",
   "metadata": {},
   "outputs": [
    {
     "name": "stdout",
     "output_type": "stream",
     "text": [
      "[2, 3]\n"
     ]
    }
   ],
   "source": [
    "# Code\n",
    "my_list = [1, 2, 3, 4, 5]\n",
    "my_sub_list = my_list[1:3]\n",
    "print(my_sub_list)"
   ]
  },
  {
   "cell_type": "markdown",
   "id": "c2008c52-79ab-448a-aeae-4ccd1da1a86d",
   "metadata": {},
   "source": [
    "________________________________________________"
   ]
  },
  {
   "cell_type": "markdown",
   "id": "a62b90d1-5ff8-4dfd-b15e-bae76936f94e",
   "metadata": {},
   "source": [
    "Q6. What is a complex number in mathematics, and how is it represented in Python?"
   ]
  },
  {
   "cell_type": "markdown",
   "id": "6f2630ba-28da-4fc9-a040-4ac325246bd0",
   "metadata": {},
   "source": [
    "Ans :\n",
    "A complex number in mathematics is one that can be written as a + bi, where a, b are all real numbers and i is the imaginary unit, which is equal to the square root of -1. A and b are used to represent the real and imaginary halves of a complex number, respectively.\n",
    "\n",
    "In python, instead of i, j should be mentiones as imaginary number\n",
    "Example : 1 + 5j\n",
    "\n",
    "Also this can be written in form of a function called complex\n",
    "Example :\n",
    "complex(3,5) will give us result 3+5j"
   ]
  },
  {
   "cell_type": "code",
   "execution_count": 6,
   "id": "fb27c806-b48e-47d7-890a-7bd5a8dfa8b6",
   "metadata": {},
   "outputs": [
    {
     "data": {
      "text/plain": [
       "(3+5j)"
      ]
     },
     "execution_count": 6,
     "metadata": {},
     "output_type": "execute_result"
    }
   ],
   "source": [
    "complex(3,5)"
   ]
  },
  {
   "cell_type": "markdown",
   "id": "05f45e9a-2d7b-4a56-b6be-909c0b8c70df",
   "metadata": {},
   "source": [
    "____________________________________________________"
   ]
  },
  {
   "cell_type": "markdown",
   "id": "8da44343-92f5-4ac9-abf5-b0e5e3252361",
   "metadata": {},
   "source": [
    "Q7. What is the correct way to declare a variable named age and assign the value 25 to it?"
   ]
  },
  {
   "cell_type": "markdown",
   "id": "e73089e5-e8b9-448b-a110-e516fd1316db",
   "metadata": {},
   "source": [
    "Ans :\n",
    "\n",
    "age = 25"
   ]
  },
  {
   "cell_type": "markdown",
   "id": "83b8f9ff-73c1-4242-a304-28d7ffc40e56",
   "metadata": {},
   "source": [
    "_________________________________________________"
   ]
  },
  {
   "cell_type": "markdown",
   "id": "8e440ead-d2d2-4276-922c-3be7f83b8eee",
   "metadata": {},
   "source": [
    "Q8. Declare a variable named price and assign the value 9.99 to it. What data type does this variable\n",
    "belong to?"
   ]
  },
  {
   "cell_type": "code",
   "execution_count": 8,
   "id": "abeb015d-e3d4-494a-93aa-d030896bf894",
   "metadata": {},
   "outputs": [
    {
     "data": {
      "text/plain": [
       "float"
      ]
     },
     "execution_count": 8,
     "metadata": {},
     "output_type": "execute_result"
    }
   ],
   "source": [
    "# Ans\n",
    "\n",
    "price = 9.99\n",
    "\n",
    "# The type should be float\n",
    "\n",
    "type(price)"
   ]
  },
  {
   "cell_type": "markdown",
   "id": "45062f91-dde5-47f5-8310-66721dd7d13b",
   "metadata": {},
   "source": [
    "_______________________________________"
   ]
  },
  {
   "cell_type": "markdown",
   "id": "307d120f-206a-4153-861c-77b66ecfc66c",
   "metadata": {},
   "source": [
    "Q9. Create a variable named name and assign your full name to it as a string. How would you print the\n",
    "value of this variable?"
   ]
  },
  {
   "cell_type": "code",
   "execution_count": 9,
   "id": "625fef25-7309-433a-be4b-055a3f1de129",
   "metadata": {},
   "outputs": [
    {
     "name": "stdout",
     "output_type": "stream",
     "text": [
      "Devjyoti Jana\n"
     ]
    }
   ],
   "source": [
    "# Ans\n",
    "\n",
    "name = \"Devjyoti Jana\"\n",
    "\n",
    "# To print the value of this variable i need to pass the variable name inside the print function.\n",
    "# Example :\n",
    "\n",
    "print(name)\n"
   ]
  },
  {
   "cell_type": "markdown",
   "id": "e4273293-43aa-4b84-9b3c-816f56d5b6ca",
   "metadata": {},
   "source": [
    "______________________________________________________________"
   ]
  },
  {
   "cell_type": "markdown",
   "id": "09c30913-8114-4307-9739-a3127204fce3",
   "metadata": {},
   "source": [
    "Q10. Given the string \"Hello, World!\", extract the substring \"World\"."
   ]
  },
  {
   "cell_type": "code",
   "execution_count": 14,
   "id": "aa024eb2-a693-4bd2-8d51-87bf40c44ee4",
   "metadata": {},
   "outputs": [
    {
     "name": "stdout",
     "output_type": "stream",
     "text": [
      "World\n",
      "World\n",
      "World\n"
     ]
    }
   ],
   "source": [
    "# Code\n",
    "string = \"Hello World\"\n",
    "\n",
    "# Method 1 \n",
    "print(string[6:])\n",
    "\n",
    "# Method 2\n",
    "print(string[-5:])\n",
    "\n",
    "# Method 3\n",
    "string2 = string.split()\n",
    "print(string2[1])"
   ]
  },
  {
   "cell_type": "markdown",
   "id": "551754fa-dbb3-48e2-ae40-c0853731eb3c",
   "metadata": {},
   "source": [
    "_________________________________"
   ]
  },
  {
   "cell_type": "markdown",
   "id": "017a5546-c6f5-4d29-9e71-f0ff27a0ff22",
   "metadata": {},
   "source": [
    "Q11. Create a variable named \"is_student\" and assign it a boolean value indicating whether you are\n",
    "currently a student or not."
   ]
  },
  {
   "cell_type": "code",
   "execution_count": null,
   "id": "c5f64b89-89c4-47ae-b7f6-43294e55c2ad",
   "metadata": {},
   "outputs": [],
   "source": [
    "$"
   ]
  }
 ],
 "metadata": {
  "kernelspec": {
   "display_name": "Python 3 (ipykernel)",
   "language": "python",
   "name": "python3"
  },
  "language_info": {
   "codemirror_mode": {
    "name": "ipython",
    "version": 3
   },
   "file_extension": ".py",
   "mimetype": "text/x-python",
   "name": "python",
   "nbconvert_exporter": "python",
   "pygments_lexer": "ipython3",
   "version": "3.10.8"
  }
 },
 "nbformat": 4,
 "nbformat_minor": 5
}
