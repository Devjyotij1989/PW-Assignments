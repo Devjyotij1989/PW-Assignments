{
 "cells": [
  {
   "cell_type": "markdown",
   "id": "87a8ab4c-5a9a-4fd9-a307-c060f9e42a58",
   "metadata": {},
   "source": [
    "Q1. Explain why we have to use the Exception class while creating a Custom Exception.\n",
    "\n",
    "Note: Here Exception class refers to the base class for all the exceptions."
   ]
  },
  {
   "cell_type": "markdown",
   "id": "1d4a2576-af92-4aa5-8853-a7ce7330d044",
   "metadata": {},
   "source": [
    "Ans : \n",
    "A custom exception is essentially a new type of exception that is not already defined by the programming language when it is created. We need to extend the Exception class in order to accomplish this. This is so because all exceptions are derived from the Exception class. The custom exception inherits all of the Exception class's features, including the capacity to be thrown and caught, by extending it."
   ]
  },
  {
   "cell_type": "markdown",
   "id": "a1da199c-0f8b-4f1f-a3cd-c8a4014aa7c1",
   "metadata": {},
   "source": [
    "__________________"
   ]
  },
  {
   "cell_type": "markdown",
   "id": "3a28df9b-647e-403f-b1ac-60758ee05ef7",
   "metadata": {},
   "source": [
    "Q2. Write a python program to print Python Exception Hierarchy."
   ]
  },
  {
   "cell_type": "code",
   "execution_count": 7,
   "id": "34ec2a59-101b-449f-93b5-f6b0f76a226d",
   "metadata": {},
   "outputs": [
    {
     "name": "stdin",
     "output_type": "stream",
     "text": [
      "Enter first number to add : 4\n",
      "Enter second number to add : 5\n"
     ]
    },
    {
     "name": "stdout",
     "output_type": "stream",
     "text": [
      "4 + 5 = 9\n",
      "Success\n"
     ]
    },
    {
     "ename": "NameError",
     "evalue": "name 'e' is not defined",
     "output_type": "error",
     "traceback": [
      "\u001b[0;31m---------------------------------------------------------------------------\u001b[0m",
      "\u001b[0;31mNameError\u001b[0m                                 Traceback (most recent call last)",
      "Cell \u001b[0;32mIn[7], line 15\u001b[0m\n\u001b[1;32m     13\u001b[0m     \u001b[38;5;28mprint\u001b[39m(\u001b[38;5;124m\"\u001b[39m\u001b[38;5;124mSuccess\u001b[39m\u001b[38;5;124m\"\u001b[39m)\n\u001b[1;32m     14\u001b[0m \u001b[38;5;28;01mfinally\u001b[39;00m :\n\u001b[0;32m---> 15\u001b[0m     logging\u001b[38;5;241m.\u001b[39merror(\u001b[38;5;124m\"\u001b[39m\u001b[38;5;124mQ2 : Completed with \u001b[39m\u001b[38;5;132;01m{}\u001b[39;00m\u001b[38;5;124m\"\u001b[39m\u001b[38;5;241m.\u001b[39mformat(\u001b[43me\u001b[49m))\n",
      "\u001b[0;31mNameError\u001b[0m: name 'e' is not defined"
     ]
    }
   ],
   "source": [
    "import logging\n",
    "logging.basicConfig(filename = \"W5A2-errors.log\", level = logging.ERROR)\n",
    "try :\n",
    "    a = int(input(\"Enter first number to add :\"))\n",
    "    b = int(input(\"Enter second number to add :\"))\n",
    "    c = a + b\n",
    "except (ValueError) as e:\n",
    "    logging.error(\"Q2 : Error : <<{}>> \".format(e))\n",
    "    print(\"Error\")\n",
    "else :\n",
    "    print(f\"{a} + {b} = {c}\")\n",
    "    logging.error(\"Q2 : Success \")\n",
    "    print(\"Success\")\n",
    "finally :\n",
    "    logging.error(\"Q2 : Completed with {}\".format(e))\n",
    "    "
   ]
  },
  {
   "cell_type": "markdown",
   "id": "67a06550-8dcb-40e8-b72a-e37b63627119",
   "metadata": {},
   "source": [
    "______________"
   ]
  },
  {
   "cell_type": "markdown",
   "id": "f3f99d36-6d53-417a-a9df-0411f1e326c1",
   "metadata": {},
   "source": [
    "Q3. What errors are defined in the ArithmeticError class? Explain any two with an example."
   ]
  },
  {
   "cell_type": "markdown",
   "id": "a8fc8646-409b-4fa9-af6b-19c8061df81d",
   "metadata": {},
   "source": [
    "Ans : \n",
    "Errors are defined in ArithmeticError\n",
    "1. ZeroDivisionError\n",
    "2. FloatingPointError \n",
    "3. OverflowError\n",
    "4. UnderflowError\n"
   ]
  },
  {
   "cell_type": "code",
   "execution_count": 10,
   "id": "ccdaea29-f150-470d-9f4e-e8b1b077e890",
   "metadata": {},
   "outputs": [
    {
     "ename": "ZeroDivisionError",
     "evalue": "division by zero",
     "output_type": "error",
     "traceback": [
      "\u001b[0;31m---------------------------------------------------------------------------\u001b[0m",
      "\u001b[0;31mZeroDivisionError\u001b[0m                         Traceback (most recent call last)",
      "Cell \u001b[0;32mIn[10], line 2\u001b[0m\n\u001b[1;32m      1\u001b[0m \u001b[38;5;66;03m# ZeroDivisionError\u001b[39;00m\n\u001b[0;32m----> 2\u001b[0m \u001b[38;5;241;43m12\u001b[39;49m\u001b[43m \u001b[49m\u001b[38;5;241;43m/\u001b[39;49m\u001b[43m \u001b[49m\u001b[38;5;241;43m0\u001b[39;49m\n",
      "\u001b[0;31mZeroDivisionError\u001b[0m: division by zero"
     ]
    }
   ],
   "source": [
    "# ZeroDivisionError\n",
    "12 / 0\n"
   ]
  },
  {
   "cell_type": "code",
   "execution_count": 12,
   "id": "43afb48f-934d-475c-94c8-dc3339c2be6e",
   "metadata": {},
   "outputs": [
    {
     "name": "stdout",
     "output_type": "stream",
     "text": [
      "Factorial: "
     ]
    },
    {
     "ename": "ValueError",
     "evalue": "Exceeds the limit (4300) for integer string conversion; use sys.set_int_max_str_digits() to increase the limit",
     "output_type": "error",
     "traceback": [
      "\u001b[0;31m---------------------------------------------------------------------------\u001b[0m",
      "\u001b[0;31mValueError\u001b[0m                                Traceback (most recent call last)",
      "Cell \u001b[0;32mIn[12], line 10\u001b[0m\n\u001b[1;32m      7\u001b[0m     \u001b[38;5;28;01mexcept\u001b[39;00m \u001b[38;5;167;01mOverflowError\u001b[39;00m:\n\u001b[1;32m      8\u001b[0m         \u001b[38;5;28mprint\u001b[39m(\u001b[38;5;124m\"\u001b[39m\u001b[38;5;124mError: Result too large to be represented.\u001b[39m\u001b[38;5;124m\"\u001b[39m)\n\u001b[0;32m---> 10\u001b[0m \u001b[43mcalculate_factorial\u001b[49m\u001b[43m(\u001b[49m\u001b[38;5;241;43m10000\u001b[39;49m\u001b[43m)\u001b[49m\n",
      "Cell \u001b[0;32mIn[12], line 6\u001b[0m, in \u001b[0;36mcalculate_factorial\u001b[0;34m(n)\u001b[0m\n\u001b[1;32m      4\u001b[0m     \u001b[38;5;28;01mfor\u001b[39;00m i \u001b[38;5;129;01min\u001b[39;00m \u001b[38;5;28mrange\u001b[39m(\u001b[38;5;241m1\u001b[39m, n\u001b[38;5;241m+\u001b[39m\u001b[38;5;241m1\u001b[39m):\n\u001b[1;32m      5\u001b[0m         result \u001b[38;5;241m*\u001b[39m\u001b[38;5;241m=\u001b[39m i\n\u001b[0;32m----> 6\u001b[0m     \u001b[38;5;28;43mprint\u001b[39;49m\u001b[43m(\u001b[49m\u001b[38;5;124;43m\"\u001b[39;49m\u001b[38;5;124;43mFactorial:\u001b[39;49m\u001b[38;5;124;43m\"\u001b[39;49m\u001b[43m,\u001b[49m\u001b[43m \u001b[49m\u001b[43mresult\u001b[49m\u001b[43m)\u001b[49m\n\u001b[1;32m      7\u001b[0m \u001b[38;5;28;01mexcept\u001b[39;00m \u001b[38;5;167;01mOverflowError\u001b[39;00m:\n\u001b[1;32m      8\u001b[0m     \u001b[38;5;28mprint\u001b[39m(\u001b[38;5;124m\"\u001b[39m\u001b[38;5;124mError: Result too large to be represented.\u001b[39m\u001b[38;5;124m\"\u001b[39m)\n",
      "\u001b[0;31mValueError\u001b[0m: Exceeds the limit (4300) for integer string conversion; use sys.set_int_max_str_digits() to increase the limit"
     ]
    }
   ],
   "source": [
    "def calculate_factorial(n):\n",
    "    try:\n",
    "        result = 1\n",
    "        for i in range(1, n+1):\n",
    "            result *= i\n",
    "        print(\"Factorial:\", result)\n",
    "    except OverflowError:\n",
    "        print(\"Error: Result too large to be represented.\")\n",
    "\n",
    "calculate_factorial(10000)"
   ]
  },
  {
   "cell_type": "markdown",
   "id": "f96f4da7-36c9-45ab-a3e3-c188d6435697",
   "metadata": {},
   "source": [
    "_______________"
   ]
  },
  {
   "cell_type": "markdown",
   "id": "57d3bc6b-8e65-4529-851e-40b5480d22c4",
   "metadata": {},
   "source": [
    "Q4. Why LookupError class is used? Explain with an example KeyError and IndexError."
   ]
  },
  {
   "cell_type": "markdown",
   "id": "312d35a0-8573-4bc4-afbb-6890f775bc21",
   "metadata": {},
   "source": [
    "Ans :\n",
    "When a key or index cannot be located in a sequence or mapping, an error is generated. These errors are represented by the LookupError class. "
   ]
  },
  {
   "cell_type": "code",
   "execution_count": 14,
   "id": "0658449a-a56a-4b86-8467-2311114516cc",
   "metadata": {},
   "outputs": [
    {
     "ename": "IndexError",
     "evalue": "list index out of range",
     "output_type": "error",
     "traceback": [
      "\u001b[0;31m---------------------------------------------------------------------------\u001b[0m",
      "\u001b[0;31mIndexError\u001b[0m                                Traceback (most recent call last)",
      "Cell \u001b[0;32mIn[14], line 3\u001b[0m\n\u001b[1;32m      1\u001b[0m \u001b[38;5;66;03m#Example :\u001b[39;00m\n\u001b[1;32m      2\u001b[0m a \u001b[38;5;241m=\u001b[39m [\u001b[38;5;241m1\u001b[39m,\u001b[38;5;241m2\u001b[39m,\u001b[38;5;241m3\u001b[39m]\n\u001b[0;32m----> 3\u001b[0m \u001b[43ma\u001b[49m\u001b[43m[\u001b[49m\u001b[38;5;241;43m4\u001b[39;49m\u001b[43m]\u001b[49m\n",
      "\u001b[0;31mIndexError\u001b[0m: list index out of range"
     ]
    }
   ],
   "source": [
    "#Example :\n",
    "a = [1,2,3]\n",
    "a[4]"
   ]
  },
  {
   "cell_type": "markdown",
   "id": "ed7b5a6b-2b3b-4418-8c78-1d990d9a24be",
   "metadata": {},
   "source": [
    "__________________________"
   ]
  },
  {
   "cell_type": "markdown",
   "id": "b5996e17-d5cb-448f-b926-00cc40de2a23",
   "metadata": {},
   "source": [
    "Q5. Explain ImportError. What is ModuleNotFoundError?"
   ]
  },
  {
   "cell_type": "markdown",
   "id": "6c62ae4f-d831-4341-81cc-1d6571239f96",
   "metadata": {},
   "source": [
    "Ans :\n",
    "\n",
    "ImportError:\n",
    "An ImportError is a type of exception that occurs when the Python interpreter encounters an error while trying to import a module or package. Python uses the import statement to load external code from other modules or packages into the current script or program.\n",
    "\n",
    "There are several reasons why an ImportError may occur:\n",
    "\n",
    "Module not found\n",
    "Circular imports\n",
    "Missing dependencies\n",
    "Incorrect file or directory permissions\n",
    "\n",
    "ModuleNotFoundError :\n",
    "ModuleNotFoundError is a specific type of ImportError that occurs when the Python interpreter cannot find the specified module or package during the import process. It is raised when the import statement fails to locate the desired module in the import search path."
   ]
  },
  {
   "cell_type": "markdown",
   "id": "afdc74af-0a24-4ad8-bfca-d990844ec0a9",
   "metadata": {},
   "source": [
    "_________________"
   ]
  },
  {
   "cell_type": "markdown",
   "id": "73bc9dee-de8c-4ea8-877f-80b972c1eae8",
   "metadata": {},
   "source": [
    "Q6. List down some best practices for exception handling in python."
   ]
  },
  {
   "cell_type": "markdown",
   "id": "82fcb5bb-6404-4f4d-94fd-cd75b59358dc",
   "metadata": {},
   "source": [
    "Ans :\n",
    "1. The exception should be handled in a very specific way instead of generic way.\n",
    "2. Multiple exception handling should not be done at a time.\n",
    "3. The message should be very clear with respect to the exception handling.\n",
    "4. Always log the error instead of printing it\n",
    "5. Document all the error\n",
    "6. Clean up all the resourses"
   ]
  },
  {
   "cell_type": "code",
   "execution_count": null,
   "id": "b8abd54f-5d38-469b-8c9f-66a08a62949b",
   "metadata": {},
   "outputs": [],
   "source": []
  }
 ],
 "metadata": {
  "kernelspec": {
   "display_name": "Python 3 (ipykernel)",
   "language": "python",
   "name": "python3"
  },
  "language_info": {
   "codemirror_mode": {
    "name": "ipython",
    "version": 3
   },
   "file_extension": ".py",
   "mimetype": "text/x-python",
   "name": "python",
   "nbconvert_exporter": "python",
   "pygments_lexer": "ipython3",
   "version": "3.10.8"
  }
 },
 "nbformat": 4,
 "nbformat_minor": 5
}
