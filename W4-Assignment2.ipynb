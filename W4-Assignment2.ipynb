{
 "cells": [
  {
   "cell_type": "markdown",
   "id": "04b29dba-d10e-46f9-b6e3-d4a5e93442ef",
   "metadata": {},
   "source": [
    "Q1. Explain Class and Object with respect to Object-Oriented Programming. Give a suitable example."
   ]
  },
  {
   "cell_type": "markdown",
   "id": "cf2918c4-e69a-4c81-a619-59aa10f8d3b7",
   "metadata": {},
   "source": [
    "Ans : \n",
    "\n",
    "Class : A class is similar to a blueprint in object-oriented programming that specifies the properties and operations of objects. \n",
    "\n",
    "Object : On the other hand, an object is a particular instance made from that blueprint."
   ]
  },
  {
   "cell_type": "code",
   "execution_count": 4,
   "id": "6889fe1d-1fef-444c-ac05-fb30fff2f6c7",
   "metadata": {},
   "outputs": [
    {
     "data": {
      "text/plain": [
       "('Toyota', 7, 'Petrol')"
      ]
     },
     "execution_count": 4,
     "metadata": {},
     "output_type": "execute_result"
    }
   ],
   "source": [
    "#Example \n",
    "class car():\n",
    "    def __init__(self, name, capacity, engine_type):\n",
    "        self.name = name\n",
    "        self.capacity = capacity\n",
    "        self.engine_type = engine_type\n",
    "        \n",
    "    def return_details(self):\n",
    "        return self.name,self.capacity, self.engine_type\n",
    "\n",
    "obj = car(\"Toyota\", 7, \"Petrol\")\n",
    "obj.return_details()\n"
   ]
  },
  {
   "cell_type": "markdown",
   "id": "2aaa627d-bd54-4329-acd8-62ac6fccb865",
   "metadata": {},
   "source": [
    "In the above example, car is the class and obj is the object."
   ]
  },
  {
   "cell_type": "markdown",
   "id": "0474dcd4-8b06-4d19-aae4-7d6241d3a0e0",
   "metadata": {},
   "source": [
    "_____________________________________________"
   ]
  },
  {
   "cell_type": "markdown",
   "id": "dd2e2ce7-bf8e-4bb9-90f1-a77ac6bd0c9a",
   "metadata": {},
   "source": [
    "Q2. Name the four pillars of OOPs."
   ]
  },
  {
   "cell_type": "markdown",
   "id": "1f701e09-6014-45c0-8af9-be20b475e100",
   "metadata": {},
   "source": [
    "Ans :\n",
    "1. Polymorphism\n",
    "2. Abstraction\n",
    "3. Encapsulation\n",
    "4. Inheritance"
   ]
  },
  {
   "cell_type": "markdown",
   "id": "52da7a79-b4c2-4bbb-bb8c-2ced634d9e56",
   "metadata": {},
   "source": [
    "____________________________________"
   ]
  },
  {
   "cell_type": "markdown",
   "id": "ddc9197a-6f1c-4e81-ac93-41865862c70b",
   "metadata": {},
   "source": [
    "Q3. Explain why the __init__() function is used. Give a suitable example."
   ]
  },
  {
   "cell_type": "markdown",
   "id": "ebff8593-fd91-46b3-bc2d-67c8e00ce9aa",
   "metadata": {},
   "source": [
    "Ans :\n",
    "__init__() is used to define the input parameters of a class"
   ]
  },
  {
   "cell_type": "code",
   "execution_count": 5,
   "id": "250f38aa-ad2e-465c-91f8-890358408782",
   "metadata": {},
   "outputs": [
    {
     "data": {
      "text/plain": [
       "'This is a Lily flower'"
      ]
     },
     "execution_count": 5,
     "metadata": {},
     "output_type": "execute_result"
    }
   ],
   "source": [
    "# Example :\n",
    "\n",
    "class flower():\n",
    "    def __init__(self, f_name):\n",
    "        self.f_name = f_name\n",
    "        \n",
    "    def flower_name(self):\n",
    "        return f\"This is a {self.f_name} flower\"\n",
    "    \n",
    "f_obj = flower(\"Lily\")\n",
    "f_obj.flower_name()"
   ]
  },
  {
   "cell_type": "markdown",
   "id": "89884124-027f-419f-81e4-dcf0f98ab137",
   "metadata": {},
   "source": [
    "______________________________________"
   ]
  },
  {
   "cell_type": "markdown",
   "id": "e10c9c31-7c3e-4565-ab6e-b8efa6e45a2d",
   "metadata": {},
   "source": [
    "Q4. Why self is used in OOPs?"
   ]
  },
  {
   "cell_type": "markdown",
   "id": "eaf5858c-4c93-4ba9-a5a8-e1a42037fe81",
   "metadata": {},
   "source": [
    "Ans : \n",
    "\n",
    "self is used to consume the variables of a class defined inside the __init__() function."
   ]
  },
  {
   "cell_type": "markdown",
   "id": "3feae1fe-1f54-40bf-a54d-5f0178b21074",
   "metadata": {},
   "source": [
    "__________________________________"
   ]
  },
  {
   "cell_type": "markdown",
   "id": "991c6860-78d3-4a06-ac27-5d7aa10af723",
   "metadata": {},
   "source": [
    "Q5. What is inheritance? Give an example for each type of inheritance."
   ]
  },
  {
   "cell_type": "markdown",
   "id": "648504b5-fcb3-4b6a-9e1b-67e219392528",
   "metadata": {},
   "source": [
    "Ans :\n",
    "This is a concept of oops which allows a class to inherits the properties of another class/s.\n",
    "\n",
    "There are 3 types of inheritence\n",
    "1. Single inheritance\n",
    "2. Multiple inheritance\n",
    "3. Multilevel inheritance"
   ]
  },
  {
   "cell_type": "code",
   "execution_count": 11,
   "id": "456b8ad3-976e-4651-a394-d249bb860956",
   "metadata": {},
   "outputs": [
    {
     "data": {
      "text/plain": [
       "'Bus is an example of Heavy vehicle'"
      ]
     },
     "execution_count": 11,
     "metadata": {},
     "output_type": "execute_result"
    }
   ],
   "source": [
    "# Single Inheritance\n",
    "class vehicle():\n",
    "    def __init__(self, v_type):\n",
    "        self.v_type = v_type\n",
    "    def v_typ(self):\n",
    "        return self.v_type\n",
    "\n",
    "class vehicle_ex(vehicle):\n",
    "    def v_det(self,v_ex):\n",
    "        return f\"{v_ex} is an example of {self.v_type} vehicle\"\n",
    "\n",
    "ob = vehicle_ex(\"Heavy\")\n",
    "ob.v_det(\"Bus\")"
   ]
  },
  {
   "cell_type": "code",
   "execution_count": 21,
   "id": "462f08dd-17ff-4d55-a65f-67112b20abe5",
   "metadata": {},
   "outputs": [],
   "source": [
    "# Multiple inheritance\n",
    "class vh():\n",
    "    def __init__(self, v_type, v_name):\n",
    "        self.v_type = v_type\n",
    "        self.v_name = v_name\n",
    "    def v_typ(self):\n",
    "        return self.v_type, self.v_name\n",
    "\n",
    "class vh_medium(vh):\n",
    "    def vh_det1(self,v_medium):\n",
    "        return f\"{self.v_name} is a {self.v_type} which commuts in {v_medium}\"\n",
    "    \n",
    "class vh_fuel(vh):\n",
    "    def vh_det2(self,v_fuel):\n",
    "        return f\"{self.v_name} is a {self.v_type} which runs by {v_fuel}\"\n"
   ]
  },
  {
   "cell_type": "code",
   "execution_count": 22,
   "id": "aeb96f8b-436a-4551-9be8-5635538057fc",
   "metadata": {},
   "outputs": [
    {
     "data": {
      "text/plain": [
       "'Vikrant is a Ship which commuts in Water'"
      ]
     },
     "execution_count": 22,
     "metadata": {},
     "output_type": "execute_result"
    }
   ],
   "source": [
    "ship = vh_medium(\"Ship\", \"Vikrant\")\n",
    "ship.vh_det1(\"Water\")"
   ]
  },
  {
   "cell_type": "code",
   "execution_count": 23,
   "id": "e3a28a76-7e8e-4530-9420-4859ba3d8f53",
   "metadata": {},
   "outputs": [
    {
     "data": {
      "text/plain": [
       "'Vikrant is a Ship which runs by Diesel'"
      ]
     },
     "execution_count": 23,
     "metadata": {},
     "output_type": "execute_result"
    }
   ],
   "source": [
    "ship2 = vh_fuel(\"Ship\", \"Vikrant\")\n",
    "ship2.vh_det2(\"Diesel\")"
   ]
  },
  {
   "cell_type": "code",
   "execution_count": 27,
   "id": "d906123b-4b1b-4368-8403-cba181a30bff",
   "metadata": {},
   "outputs": [],
   "source": [
    "# Multi Level inheritance\n",
    "class MathOperation:\n",
    "    def __init__(self, x, y):\n",
    "        self.x = x\n",
    "        self.y = y\n",
    "\n",
    "    def addition(self):\n",
    "        return self.x + self.y\n",
    "\n",
    "class SquareOperation(MathOperation):\n",
    "    def square(self):\n",
    "        return self.x ** 2, self.y ** 2\n",
    "\n",
    "class CubeOperation(SquareOperation):\n",
    "    def cube(self):\n",
    "        return self.x ** 3, self.y ** 3\n",
    "\n",
    "# Create an instance of the CubeOperation class\n",
    "numbers = CubeOperation(2, 3)"
   ]
  },
  {
   "cell_type": "code",
   "execution_count": 28,
   "id": "d4f5d6f1-47c2-4fae-9f22-0f8d08055124",
   "metadata": {},
   "outputs": [
    {
     "name": "stdout",
     "output_type": "stream",
     "text": [
      "5\n"
     ]
    }
   ],
   "source": [
    "print(numbers.addition()) "
   ]
  },
  {
   "cell_type": "code",
   "execution_count": 29,
   "id": "71a06737-bf97-42bb-a869-976d0067084c",
   "metadata": {},
   "outputs": [
    {
     "name": "stdout",
     "output_type": "stream",
     "text": [
      "(4, 9)\n"
     ]
    }
   ],
   "source": [
    "print(numbers.square()) "
   ]
  },
  {
   "cell_type": "code",
   "execution_count": 30,
   "id": "45ba5229-ec7f-4a80-9578-83aa8cbd167d",
   "metadata": {},
   "outputs": [
    {
     "name": "stdout",
     "output_type": "stream",
     "text": [
      "(8, 27)\n"
     ]
    }
   ],
   "source": [
    "print(numbers.cube())  "
   ]
  },
  {
   "cell_type": "markdown",
   "id": "05468876-045a-4a4d-ac9e-cbf4bd0e59d7",
   "metadata": {},
   "source": [
    "__________________________________"
   ]
  }
 ],
 "metadata": {
  "kernelspec": {
   "display_name": "Python 3 (ipykernel)",
   "language": "python",
   "name": "python3"
  },
  "language_info": {
   "codemirror_mode": {
    "name": "ipython",
    "version": 3
   },
   "file_extension": ".py",
   "mimetype": "text/x-python",
   "name": "python",
   "nbconvert_exporter": "python",
   "pygments_lexer": "ipython3",
   "version": "3.10.8"
  }
 },
 "nbformat": 4,
 "nbformat_minor": 5
}
