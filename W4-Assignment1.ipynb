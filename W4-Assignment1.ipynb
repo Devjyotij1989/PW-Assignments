{
 "cells": [
  {
   "cell_type": "markdown",
   "id": "8c6f22f8-bdb0-4ceb-91fb-2e23cfe55bba",
   "metadata": {},
   "source": [
    "Q1, Create a vehicle class with an init method having instance variables as name_of_vehicle, max_speed\n",
    "and average_of_vehicle."
   ]
  },
  {
   "cell_type": "code",
   "execution_count": 10,
   "id": "371647da-dc36-4ffe-8ed5-332e0a23f983",
   "metadata": {},
   "outputs": [
    {
     "data": {
      "text/plain": [
       "('Maruti Alto', 80, 25)"
      ]
     },
     "execution_count": 10,
     "metadata": {},
     "output_type": "execute_result"
    }
   ],
   "source": [
    "class vehicle :\n",
    "    \n",
    "    def __init__(self, name_of_vehicle, max_speed, average_of_vehicle):\n",
    "        self.name_of_vehicle = name_of_vehicle\n",
    "        self.max_speed = max_speed\n",
    "        self.average_of_vehicle = average_of_vehicle\n",
    "    \n",
    "    def return_vehicle_details(self):\n",
    "        return self.name_of_vehicle, self.max_speed, self.average_of_vehicle\n",
    "    \n",
    "maruti = vehicle(\"Maruti Alto\" ,80 , 25)\n",
    "\n",
    "maruti.return_vehicle_details()\n"
   ]
  },
  {
   "cell_type": "markdown",
   "id": "a917a0ee-d15b-4e31-a21b-b051ac77dd20",
   "metadata": {},
   "source": [
    "_________________________________________"
   ]
  },
  {
   "cell_type": "markdown",
   "id": "a8001d21-7c55-4067-8ab1-8cb1423868e8",
   "metadata": {},
   "source": [
    "Q2. Create a child class car from the vehicle class created in Que 1, which will inherit the vehicle class.\n",
    "Create a method named seating_capacity which takes capacity as an argument and returns the name of\n",
    "the vehicle and its seating capacity."
   ]
  },
  {
   "cell_type": "code",
   "execution_count": 15,
   "id": "173ce25c-238e-45ba-8bf1-35f74f32b36a",
   "metadata": {},
   "outputs": [
    {
     "data": {
      "text/plain": [
       "'The Maruti Alto has a seating capacity of 4'"
      ]
     },
     "execution_count": 15,
     "metadata": {},
     "output_type": "execute_result"
    }
   ],
   "source": [
    "class car(vehicle) :\n",
    "    \n",
    "    def seating_capacity (self, capacity):\n",
    "        return f\"The {self.name_of_vehicle} has a seating capacity of {capacity}\"\n",
    "        \n",
    "ob = car('Maruti Alto', 80, 25)\n",
    "ob.seating_capacity(4)\n"
   ]
  },
  {
   "cell_type": "markdown",
   "id": "30bc52ee-5053-41ec-90cc-ccb2d10ec3d0",
   "metadata": {},
   "source": [
    "_________________________________"
   ]
  },
  {
   "cell_type": "markdown",
   "id": "0a6961e6-94a6-438c-8cae-8748ce57aa8d",
   "metadata": {},
   "source": [
    "Q3. What is multiple inheritance? Write a python code to demonstrate multiple inheritance."
   ]
  },
  {
   "cell_type": "markdown",
   "id": "eeabe448-5dfc-41db-92b9-3114909b0af3",
   "metadata": {},
   "source": [
    "Ans : Multiple inheritance refers to inheriting the attributes and/or methods from more than one parent classes"
   ]
  },
  {
   "cell_type": "code",
   "execution_count": 20,
   "id": "f1fd53f9-d9d4-4fb9-a826-b0b62b81fd2b",
   "metadata": {},
   "outputs": [],
   "source": [
    "class input_1 :\n",
    "    def __init__(self, a, b):\n",
    "        self.num1 = a\n",
    "        self.num2 = b\n",
    "    def return_values (self):\n",
    "        return self.num1,self.num2\n",
    "\n",
    "class addition (input_1):\n",
    "    def add(self):\n",
    "        return f\"{self.num1} + {self.num2} = {self.num1+self.num2}\"\n",
    "    \n",
    "class substraction (input_1):\n",
    "    def subs(self):\n",
    "        return f\"{self.num1} - {self.num2} = {self.num1-self.num2}\"\n",
    "\n",
    "class display(addition,substraction):\n",
    "    pass"
   ]
  },
  {
   "cell_type": "code",
   "execution_count": 21,
   "id": "bc71b0c9-9257-465b-a430-c431f1af8e81",
   "metadata": {},
   "outputs": [],
   "source": [
    "obj = display(10,8)"
   ]
  },
  {
   "cell_type": "code",
   "execution_count": 24,
   "id": "bcc6c0a3-8ee0-4fbf-9d66-3890a7c52536",
   "metadata": {},
   "outputs": [
    {
     "data": {
      "text/plain": [
       "'10 + 8 = 18'"
      ]
     },
     "execution_count": 24,
     "metadata": {},
     "output_type": "execute_result"
    }
   ],
   "source": [
    "obj.add()"
   ]
  },
  {
   "cell_type": "code",
   "execution_count": 25,
   "id": "a75b3010-3463-48aa-bb70-ead6c5e15185",
   "metadata": {},
   "outputs": [
    {
     "data": {
      "text/plain": [
       "'10 - 8 = 2'"
      ]
     },
     "execution_count": 25,
     "metadata": {},
     "output_type": "execute_result"
    }
   ],
   "source": [
    "obj.subs()"
   ]
  },
  {
   "cell_type": "markdown",
   "id": "d28730a6-3c5b-47ff-95bc-9c8e2f0ae016",
   "metadata": {},
   "source": [
    "In the above example, display being a child class, inherited from addition and substraction classes"
   ]
  },
  {
   "cell_type": "markdown",
   "id": "149a790a-dec8-4543-b745-411f988d35d3",
   "metadata": {},
   "source": [
    "___________________________"
   ]
  },
  {
   "cell_type": "markdown",
   "id": "23eb1f74-ceaa-4c7e-9423-e8f9a9594277",
   "metadata": {},
   "source": [
    "Q4. What are getter and setter in python? Create a class and create a getter and a setter method in this\n",
    "class."
   ]
  },
  {
   "cell_type": "markdown",
   "id": "6de5f2fb-1193-426f-bb95-9d7b31e577d1",
   "metadata": {},
   "source": [
    "Ans : Getter and Setter are property decorators. Getter allows to access a private variable of a class and setter allows to modify the private variable.\n"
   ]
  },
  {
   "cell_type": "code",
   "execution_count": 35,
   "id": "48095f77-45ea-438a-9148-e0c3d752515e",
   "metadata": {},
   "outputs": [
    {
     "data": {
      "text/plain": [
       "('Toyota Innova', 'Petrol', 7)"
      ]
     },
     "execution_count": 35,
     "metadata": {},
     "output_type": "execute_result"
    }
   ],
   "source": [
    "class car:\n",
    "    def __init__(self, name, car_type, capacity):\n",
    "        self.__name = name\n",
    "        self.__car_type = car_type\n",
    "        self.__capacity = capacity\n",
    "        \n",
    "    @property\n",
    "    def get_car_details(self):\n",
    "        return self.__name, self.__car_type, self.__capacity\n",
    "\n",
    "    @get_car_details.setter\n",
    "    def modify_name(self, name):\n",
    "        self.__name = name\n",
    "    \n",
    "    \n",
    "ob = car(\"Toyota Innova\", \"Petrol\", 7)\n",
    "ob.get_car_details"
   ]
  },
  {
   "cell_type": "code",
   "execution_count": 38,
   "id": "49730474-4970-4b1f-8b2c-6667c287231a",
   "metadata": {},
   "outputs": [
    {
     "data": {
      "text/plain": [
       "('Maruti Eartiga', 'Petrol', 7)"
      ]
     },
     "execution_count": 38,
     "metadata": {},
     "output_type": "execute_result"
    }
   ],
   "source": [
    "ob.modify_name = \"Maruti Eartiga\"\n",
    "ob.get_car_details"
   ]
  },
  {
   "cell_type": "markdown",
   "id": "0dc529b2-45ed-433a-8ed1-74aace466671",
   "metadata": {},
   "source": [
    "___________________________"
   ]
  },
  {
   "cell_type": "markdown",
   "id": "4c0080c1-ebb0-415d-94ac-ba37668191de",
   "metadata": {},
   "source": [
    "Q5.What is method overriding in python? Write a python code to demonstrate method overriding."
   ]
  },
  {
   "cell_type": "markdown",
   "id": "532b4a9e-be8e-44b4-a0a3-f77330741cdb",
   "metadata": {},
   "source": [
    "Ans : Method overriding in Python is a feature where a child class provides its own implementation of a method that is already defined in its parent class. "
   ]
  },
  {
   "cell_type": "code",
   "execution_count": 48,
   "id": "9d8366a5-4c7d-4691-bd24-5d4492d00da5",
   "metadata": {},
   "outputs": [],
   "source": [
    "class operation :\n",
    "    def perform_operation(self, num1, num2):\n",
    "        pass\n",
    "\n",
    "class addition(operation) :\n",
    "    def perform_operation(self, num1, num2):\n",
    "        return f\"{num1} + {num2} = {num1 + num2}\"\n",
    "    \n",
    "class substruction (operation):\n",
    "    def perform_operation(self, num1, num2):\n",
    "        return f\"{self.num1} - {self.num2} = {self.num1 - self.num2}\"\n",
    "    \n",
    "class multiplication (operation):\n",
    "    def perform_operation(self, num1, num2):\n",
    "        return f\"{self.num1} X {self.num2} = {self.num1 * self.num2}\"\n",
    "\n"
   ]
  },
  {
   "cell_type": "code",
   "execution_count": 51,
   "id": "4c36bb02-a689-4126-9b0f-01233f049507",
   "metadata": {},
   "outputs": [
    {
     "data": {
      "text/plain": [
       "'5 + 3 = 8'"
      ]
     },
     "execution_count": 51,
     "metadata": {},
     "output_type": "execute_result"
    }
   ],
   "source": [
    "add = addition()\n",
    "add.perform_operation(5,3)\n"
   ]
  },
  {
   "cell_type": "code",
   "execution_count": 52,
   "id": "b8a203ae-942c-4ed1-a55f-ad857bbfe831",
   "metadata": {},
   "outputs": [
    {
     "data": {
      "text/plain": [
       "'5 - 3 = 2'"
      ]
     },
     "execution_count": 52,
     "metadata": {},
     "output_type": "execute_result"
    }
   ],
   "source": [
    "subs = substruction()\n",
    "subs.perform_operation(5,3)\n"
   ]
  },
  {
   "cell_type": "code",
   "execution_count": 53,
   "id": "4e9f4c4c-02e2-4e7c-a34c-2a037d160740",
   "metadata": {},
   "outputs": [
    {
     "data": {
      "text/plain": [
       "'5 X 3 = 15'"
      ]
     },
     "execution_count": 53,
     "metadata": {},
     "output_type": "execute_result"
    }
   ],
   "source": [
    "mul = multiplication()\n",
    "mul.perform_operation(5,3)"
   ]
  },
  {
   "cell_type": "code",
   "execution_count": null,
   "id": "48d94778-c46a-4a9b-9219-3e1139c32ab3",
   "metadata": {},
   "outputs": [],
   "source": []
  }
 ],
 "metadata": {
  "kernelspec": {
   "display_name": "Python 3 (ipykernel)",
   "language": "python",
   "name": "python3"
  },
  "language_info": {
   "codemirror_mode": {
    "name": "ipython",
    "version": 3
   },
   "file_extension": ".py",
   "mimetype": "text/x-python",
   "name": "python",
   "nbconvert_exporter": "python",
   "pygments_lexer": "ipython3",
   "version": "3.10.8"
  }
 },
 "nbformat": 4,
 "nbformat_minor": 5
}
