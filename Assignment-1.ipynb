{
 "cells": [
  {
   "cell_type": "markdown",
   "id": "65a07e07-4a51-4e52-95b6-3dc3de9eac58",
   "metadata": {},
   "source": [
    "Q1. Create one variable containing following type of data:\n",
    "\n",
    "(i) string\n",
    "\n",
    "(ii) list\n",
    "\n",
    "(iii) float\n",
    "\n",
    "(iv) tuple"
   ]
  },
  {
   "cell_type": "code",
   "execution_count": 1,
   "id": "c95c4924-7b1d-4951-8d52-145f98e701c3",
   "metadata": {},
   "outputs": [],
   "source": [
    "my_string = \"I am starting with my first Assignment\"\n",
    "my_list = [1,\"a\",2.3]\n",
    "my_float = 1.89\n",
    "my_tuple = (\"Cat\",\"Dog\",\"Elephant\") "
   ]
  },
  {
   "cell_type": "markdown",
   "id": "1f55eb77-477d-48c2-bcba-07a76c9e8782",
   "metadata": {},
   "source": [
    "Q2. Given are some following variables containing data:\n",
    "\n",
    "(i) var1 = ‘ ‘\n",
    "\n",
    "(ii) var2 = ‘[ DS , ML , Python]’\n",
    "\n",
    "(iii) var3 = [ ‘DS’ , ’ML’ , ‘Python’ ]\n",
    "\n",
    "(iv) var4 = 1.\n",
    "\n",
    "What will be the data type of the above given variable."
   ]
  },
  {
   "cell_type": "code",
   "execution_count": 8,
   "id": "ff687df4-eca9-4c29-9a74-5cd5c0ffc75c",
   "metadata": {},
   "outputs": [
    {
     "name": "stdout",
     "output_type": "stream",
     "text": [
      "Type of var1 is  <class 'str'>\n",
      "Type of var1 is  <class 'str'>\n",
      "Type of var1 is  <class 'list'>\n",
      "Type of var1 is  <class 'int'>\n"
     ]
    }
   ],
   "source": [
    "var1 = ''\n",
    "var2 = '[ DS , ML , Python]'\n",
    "var3 = [ 'DS' , 'ML' , 'Python' ]\n",
    "var4 = 1\n",
    "\n",
    "print(\"Type of var1 is \", type(var1))\n",
    "print(\"Type of var1 is \", type(var2))\n",
    "print(\"Type of var1 is \", type(var3))\n",
    "print(\"Type of var1 is \", type(var4))"
   ]
  },
  {
   "cell_type": "markdown",
   "id": "24f834e8-e068-4d57-a317-eaeaf397274b",
   "metadata": {},
   "source": [
    "------------------------------------------------------------------------------------------"
   ]
  },
  {
   "cell_type": "markdown",
   "id": "da4e2dcf-8ff1-4613-9973-efd73cacf7c4",
   "metadata": {},
   "source": [
    "Q3. Explain the use of the following operators using an example:\n",
    "\n",
    "(i) /\n",
    "\n",
    "(ii) %\n",
    "\n",
    "(iii) //\n",
    "\n",
    "(iv) **"
   ]
  },
  {
   "cell_type": "markdown",
   "id": "02213ada-c001-46e5-bafb-d46a323f5f22",
   "metadata": {},
   "source": [
    "                    "
   ]
  },
  {
   "cell_type": "markdown",
   "id": "9061dfee-5d90-4ba3-b75f-6edd28f1fcb3",
   "metadata": {},
   "source": [
    "(i) / : Division. This is used to devide 2 numbers. Example : 4 / 2 = 2\n",
    "\n",
    "(ii) % : Modulus. This is used to find the remainder. Example : 5 % 2 = 1\n",
    "\n",
    "(iii) // : \tFloor division. This rounds the result down to the nearest whole number : 7 // 2 = 3\n",
    "\n",
    "(iv) ** : Exponentiation. Example 2**3 = 2*2*2 = 8"
   ]
  },
  {
   "cell_type": "code",
   "execution_count": 16,
   "id": "431cb0d6-d90d-41aa-a659-32a2e3d28b0e",
   "metadata": {},
   "outputs": [
    {
     "data": {
      "text/plain": [
       "2.0"
      ]
     },
     "execution_count": 16,
     "metadata": {},
     "output_type": "execute_result"
    }
   ],
   "source": [
    "4 / 2"
   ]
  },
  {
   "cell_type": "code",
   "execution_count": 12,
   "id": "04c1622a-b461-4833-823b-f4794408dbb2",
   "metadata": {},
   "outputs": [
    {
     "data": {
      "text/plain": [
       "1"
      ]
     },
     "execution_count": 12,
     "metadata": {},
     "output_type": "execute_result"
    }
   ],
   "source": [
    "5 % 2"
   ]
  },
  {
   "cell_type": "code",
   "execution_count": 14,
   "id": "4e80fe4a-2f2a-4a3b-9835-d7c6f766cd56",
   "metadata": {},
   "outputs": [
    {
     "data": {
      "text/plain": [
       "3"
      ]
     },
     "execution_count": 14,
     "metadata": {},
     "output_type": "execute_result"
    }
   ],
   "source": [
    "7 // 2"
   ]
  },
  {
   "cell_type": "code",
   "execution_count": 15,
   "id": "54257d96-b1b2-4a2b-a897-278bc4ee6bcb",
   "metadata": {},
   "outputs": [
    {
     "data": {
      "text/plain": [
       "8"
      ]
     },
     "execution_count": 15,
     "metadata": {},
     "output_type": "execute_result"
    }
   ],
   "source": [
    "2 ** 3"
   ]
  },
  {
   "cell_type": "markdown",
   "id": "4dcc28cb-448d-49c3-b6d9-d0cc82fa68f1",
   "metadata": {},
   "source": [
    "-------------------------------------------------------------------------------------------"
   ]
  },
  {
   "cell_type": "markdown",
   "id": "ffde5ba3-3464-4d44-9b83-c2240c043209",
   "metadata": {},
   "source": [
    "Q4. Create a list of length 10 of your choice containing multiple types of data. Using for loop print the\n",
    "element and its data type."
   ]
  },
  {
   "cell_type": "code",
   "execution_count": 23,
   "id": "98807562-41d3-4c69-b5f8-1c2f4b800ccd",
   "metadata": {},
   "outputs": [
    {
     "name": "stdout",
     "output_type": "stream",
     "text": [
      "Length of the list :  10\n",
      "1\n",
      "5.2\n",
      "Dev\n",
      "[1, 2, 3]\n",
      "('Dog', 'Cat', 'Lion')\n",
      "(3+5j)\n",
      "True\n",
      "{'color': 'Red'}\n",
      "12\n",
      "6.7778\n"
     ]
    }
   ],
   "source": [
    "#Define the list\n",
    "my_list1 = [1,5.2,\"Dev\",[1,2,3],(\"Dog\",\"Cat\",\"Lion\"),3+5j,True,{\"color\" : \"Red\"},12,6.7778]\n",
    "print(\"Length of the list : \",len(my_list1))\n",
    "\n",
    "#Print the elements of the list\n",
    "for i in my_list1 :\n",
    "    print(i)"
   ]
  },
  {
   "cell_type": "markdown",
   "id": "de8610ba-49e2-41fe-b743-97d981bc3898",
   "metadata": {},
   "source": [
    "---------------------------------------------------------------------------------------------"
   ]
  },
  {
   "cell_type": "markdown",
   "id": "fdb4d31c-b392-4885-8c24-09b7fa7b33b3",
   "metadata": {},
   "source": [
    "Q5. Using a while loop, verify if the number A is purely divisible by number B and if so then how many\n",
    "times it can be divisible."
   ]
  },
  {
   "cell_type": "code",
   "execution_count": 37,
   "id": "a7680b21-9826-4010-8c46-656e23409894",
   "metadata": {},
   "outputs": [
    {
     "name": "stdout",
     "output_type": "stream",
     "text": [
      "100 is divisible by 2 and can be divided 2 times\n"
     ]
    }
   ],
   "source": [
    "a = 100\n",
    "a1 = a\n",
    "b = 2\n",
    "counter = 0\n",
    "while a1 % b == 0 :\n",
    "    counter += 1\n",
    "    a1 /= b\n",
    "\n",
    "if counter > 0 :\n",
    "    print (f\"{a} is divisible by {b} and can be divided {counter} times\")\n",
    "else:\n",
    "    print(f\"{a} is not divisible by {b}\")"
   ]
  },
  {
   "cell_type": "markdown",
   "id": "9f56b384-cdd4-4d2b-9c31-3152b88d3529",
   "metadata": {},
   "source": [
    "--------------------------------------------------------------------------------------------\n"
   ]
  },
  {
   "cell_type": "markdown",
   "id": "de2a8043-2635-4e9f-8a1c-7c2d2f93a30e",
   "metadata": {},
   "source": [
    "Q6. Create a list containing 25 int type data. Using for loop and if-else condition print if the element is\n",
    "divisible by 3 or not."
   ]
  },
  {
   "cell_type": "code",
   "execution_count": 45,
   "id": "fa1f3850-39f1-4090-9e06-b95036d90e27",
   "metadata": {},
   "outputs": [
    {
     "name": "stdout",
     "output_type": "stream",
     "text": [
      "88 is not divisible by 3\n",
      "8 is not divisible by 3\n",
      "69 is divisible by 3\n",
      "57 is divisible by 3\n",
      "79 is not divisible by 3\n",
      "78 is divisible by 3\n",
      "100 is not divisible by 3\n",
      "21 is divisible by 3\n",
      "59 is not divisible by 3\n",
      "48 is divisible by 3\n",
      "28 is not divisible by 3\n",
      "40 is not divisible by 3\n",
      "42 is divisible by 3\n",
      "87 is divisible by 3\n",
      "20 is not divisible by 3\n",
      "78 is divisible by 3\n",
      "53 is not divisible by 3\n",
      "33 is divisible by 3\n",
      "13 is not divisible by 3\n",
      "28 is not divisible by 3\n",
      "60 is divisible by 3\n",
      "100 is not divisible by 3\n",
      "52 is not divisible by 3\n",
      "58 is not divisible by 3\n",
      "66 is divisible by 3\n"
     ]
    }
   ],
   "source": [
    "import random\n",
    "my_list1 = []\n",
    "for i in range(25):\n",
    "    my_list1.append((random.randint(0,100)))\n",
    "\n",
    "for num in my_list1 :\n",
    "    if num % 3 == 0 :\n",
    "        print(f\"{num} is divisible by 3\")\n",
    "    else:\n",
    "        print(f\"{num} is not divisible by 3\")\n"
   ]
  },
  {
   "cell_type": "markdown",
   "id": "96653c34-97db-4af3-9c9f-dc98a1466282",
   "metadata": {},
   "source": [
    "------------------------------------------------------------------------------------------------------"
   ]
  },
  {
   "cell_type": "markdown",
   "id": "fcaa7318-0ec8-4e09-96a7-762d06b90a5a",
   "metadata": {},
   "source": [
    "Q7. What do you understand about mutable and immutable data types? Give examples for both showing\n",
    "this property."
   ]
  },
  {
   "cell_type": "markdown",
   "id": "b5be0fa0-1464-40d1-a223-d2b42b2b57ec",
   "metadata": {},
   "source": [
    "Immutable : Values or Elements of an objects can not be changed. \n",
    "\n",
    "Example values inside a string can not be changed. \n",
    "\n",
    "Let's declare a string variable name = \"Devjyoti\". \n",
    "\n",
    "Here I can not change value at 2nd index \"v\" to \"b\". Instead I have to assign value \"Debjyoti\" as a whole to variable name to get this changed\"\n",
    "\n",
    "******************************************************************************************************\n",
    "\n",
    "Mutable : Values or Elements of an objects can be changed\n",
    "\n",
    "Example values inside a list can be changed. \n",
    "\n",
    "Let's declare a list variable my_list = [\"Dev\",25, 30]\n",
    "\n",
    "Here I can change the value \"Dev\" at zeroth index to 20"
   ]
  }
 ],
 "metadata": {
  "kernelspec": {
   "display_name": "Python 3 (ipykernel)",
   "language": "python",
   "name": "python3"
  },
  "language_info": {
   "codemirror_mode": {
    "name": "ipython",
    "version": 3
   },
   "file_extension": ".py",
   "mimetype": "text/x-python",
   "name": "python",
   "nbconvert_exporter": "python",
   "pygments_lexer": "ipython3",
   "version": "3.10.8"
  }
 },
 "nbformat": 4,
 "nbformat_minor": 5
}
