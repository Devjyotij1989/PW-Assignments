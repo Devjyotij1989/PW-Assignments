{
 "cells": [
  {
   "cell_type": "markdown",
   "id": "f90a0c28-2e23-4dda-8831-bc4a2fc83f9c",
   "metadata": {},
   "source": [
    "Q1. What is multiprocessing in python? Why is it useful?"
   ]
  },
  {
   "cell_type": "markdown",
   "id": "c7795621-1ac9-4371-8126-6326e86abdc2",
   "metadata": {},
   "source": [
    "Ans :\n",
    "\n",
    "In Python, the term \"multiprocessing\" refers to the capacity to utilise the capabilities of multiple CPU cores or CPUs while running multiple processes simultaneously. It enables the execution of tasks in parallel, enhancing effectiveness.\n",
    "\n",
    "This is useful in below ways\n",
    "\n",
    "1. Improved Performance\n",
    "2. Parallelism\n",
    "3. Resource Utilization\n",
    "4. Isolation\n",
    "5. Fault Tolerance"
   ]
  },
  {
   "cell_type": "markdown",
   "id": "33514025-69ee-4f58-a7c0-d82e8720fc95",
   "metadata": {},
   "source": [
    "_______________"
   ]
  },
  {
   "cell_type": "markdown",
   "id": "0fd1e291-1f2b-4a28-994a-48c2a3a767f3",
   "metadata": {},
   "source": [
    "Q2. What are the differences between multiprocessing and multithreading?"
   ]
  },
  {
   "cell_type": "markdown",
   "id": "4a239849-234d-419d-b4ba-2dcc2f48762e",
   "metadata": {},
   "source": [
    "Ans : \n",
    "\n",
    "The main differences between multiprocessing and multithreading are as follows:\n",
    "\n",
    "Execution Model : Multiprocessing is the simultaneous operation of multiple processes, each of which has its own memory space and operates independently. In contrast, multithreading involves running several threads concurrently within a single process, where the threads can directly communicate with one another and share the same memory space.\n",
    "\n",
    "Parallelism : Multiprocessing enables true parallel execution, in which several processes can run concurrently on various CPUs or CPU cores. This enables effective use of the hardware resources that are available and is appropriate for CPU-bound tasks. However, because the threads are executed sequentially by the CPU while running within the same process, multithreading only achieves concurrency and not true parallelism. For I/O-bound tasks where threads can overlap while waiting for input/output operations, multithreading is more appropriate.\n",
    "\n",
    "Resource Utilisation : Multiprocessing makes it possible to use multiple CPUs or CPU cores, allowing for effective hardware resource management and potential performance gains for CPU-intensive tasks. While multithreading utilises multiple CPU cores simultaneously, it does so within a single process. However, in some circumstances, such as I/O-bound tasks where threads can overlap while waiting for I/O operations, multithreading can still benefit performance.\n",
    "\n",
    "Data and Memory Sharing : In multiprocessing, each process has its own memory space, allowing for independence and independent execution. To share data between processes, interprocess communication mechanisms such as pipes or queues are needed. The direct sharing of data and variables is made possible by the fact that threads in multithreading share the same memory space. To guarantee thread-safe access to shared data, however, the appropriate synchronisation mechanisms, such as locks or semaphores, must be used.\n",
    "\n",
    "Complexity and Overhead : Multiprocessing typically involves more overhead in terms of managing memory, creating new processes, and coordinating between processes. In comparison to multithreading, it consumes more system resources. On the other hand, since threads share the same memory space and have a light-weight creation and context-switching, multithreading has a lower overhead. However, due to potential race conditions and synchronisation problems, managing thread interactions and ensuring thread safety can be more challenging.\n"
   ]
  },
  {
   "cell_type": "markdown",
   "id": "545cf8b1-42a4-440d-93ee-35669593680f",
   "metadata": {},
   "source": [
    "____________________"
   ]
  },
  {
   "cell_type": "markdown",
   "id": "e5987660-4103-4910-88f1-4f9b04c50e3a",
   "metadata": {},
   "source": [
    "Q3. Write a python code to create a process using the multiprocessing module."
   ]
  },
  {
   "cell_type": "code",
   "execution_count": 2,
   "id": "07967db6-caba-4735-adb9-bc6698304f90",
   "metadata": {},
   "outputs": [
    {
     "name": "stdout",
     "output_type": "stream",
     "text": [
      "This is executed in a separate process.\n",
      "Process execution is complete.\n"
     ]
    }
   ],
   "source": [
    "import multiprocessing\n",
    "\n",
    "def my_process():\n",
    "    # Code to be executed in the process\n",
    "    print(\"This is executed in a separate process.\")\n",
    "\n",
    "if __name__ == \"__main__\":\n",
    "    # Create a process object\n",
    "    p = multiprocessing.Process(target=my_process)\n",
    "\n",
    "    # Start the process\n",
    "    p.start()\n",
    "\n",
    "    # Wait for the process to complete\n",
    "    p.join()\n",
    "\n",
    "    # Code after the process has finished\n",
    "    print(\"Process execution is complete.\")"
   ]
  },
  {
   "cell_type": "markdown",
   "id": "78f29bdb-cd7b-4e19-ba36-9b97456c2b00",
   "metadata": {},
   "source": [
    "___________________"
   ]
  },
  {
   "cell_type": "markdown",
   "id": "cc67b28c-93fa-4250-9654-91cd9604ae2e",
   "metadata": {},
   "source": [
    "Q4. What is a multiprocessing pool in python? Why is it used?"
   ]
  },
  {
   "cell_type": "markdown",
   "id": "3b7453c3-7a8f-464f-9d92-12dd3b9678ea",
   "metadata": {},
   "source": [
    "Ans : \n",
    "\n",
    "In Python, a pool of worker processes that are created to carry out a particular task or manage a workload is referred to as a multiprocessing pool. It is a feature of the multiprocessing module and offers a practical way to effectively divide tasks among numerous processes.\n",
    "\n",
    "multiple processing.A process pool is created using the pool class. You can specify how many worker processes will be created. Tasks are autonomously executable by each worker process in the pool, and they are automatically distributed among the available processes."
   ]
  },
  {
   "cell_type": "markdown",
   "id": "b11e76c4-f034-4385-8e9f-e3719bdc64b3",
   "metadata": {},
   "source": [
    "__________"
   ]
  },
  {
   "cell_type": "markdown",
   "id": "12a22825-e306-4bc1-b797-018e81b45110",
   "metadata": {},
   "source": [
    "Q5. How can we create a pool of worker processes in python using the multiprocessing module?"
   ]
  },
  {
   "cell_type": "markdown",
   "id": "39900d88-57d5-4aec-b3d9-be27de1e6ed0",
   "metadata": {},
   "source": [
    "Ans :\n",
    "    \n",
    "To create a pool of worker processes in Python using the multiprocessing module, you can utilize the multiprocessing.Pool class.\n",
    "\n",
    "Below is the example structure for the Creation of a pool of worker processes\n",
    "\n",
    "import multiprocessing\n",
    "\n",
    "def process_task(task):\n",
    "    # Code to be executed by each worker process\n",
    "    # ...\n",
    "\n",
    "if __name__ == \"__main__\":\n",
    "    # Create a pool of worker processes\n",
    "    pool = multiprocessing.Pool(processes=4)\n",
    "\n",
    "    #Define the tasks to be executed by the worker processes\n",
    "    tasks = [task1, task2, task3, task4]\n",
    "\n",
    "    # Execute the tasks in parallel using the worker processes\n",
    "    results = pool.map(process_task, tasks)\n",
    "\n",
    "    # Close the pool and wait for the worker processes to complete\n",
    "    pool.close()\n",
    "    pool.join()\n",
    "\n",
    "    # Process the results\n",
    "    for result in results:\n",
    "        # Process the result from each task\n",
    "        # ...\n",
    "\n",
    "    # Code after the worker processes have finished\n",
    "    print(\"All tasks have been completed.\")\n"
   ]
  },
  {
   "cell_type": "markdown",
   "id": "22d25fd3-f61b-408c-9ce0-1f5457bbc46b",
   "metadata": {},
   "source": [
    "___________"
   ]
  },
  {
   "cell_type": "markdown",
   "id": "088f691a-a300-438b-b2d3-05d4d3372c62",
   "metadata": {},
   "source": [
    "Q6. Write a python program to create 4 processes, each process should print a different number using the\n",
    "multiprocessing module in python."
   ]
  },
  {
   "cell_type": "code",
   "execution_count": 3,
   "id": "4af10b94-0bcb-4762-bdd6-0fd7087639c1",
   "metadata": {},
   "outputs": [
    {
     "name": "stdout",
     "output_type": "stream",
     "text": [
      "Process Process-2Process  prints: Process-30 Process\n",
      "prints:  1Process-4\n",
      " prints:Process  2Process-5\n",
      " prints: 3\n",
      "All processes have finished.\n"
     ]
    }
   ],
   "source": [
    "import multiprocessing\n",
    "\n",
    "def print_number(number):\n",
    "    print(\"Process\", multiprocessing.current_process().name, \"prints:\", number)\n",
    "\n",
    "if __name__ == \"__main__\":\n",
    "    processes = []\n",
    "    \n",
    "    for i in range(4):\n",
    "        # Create a process and assign it a target function with an argument\n",
    "        process = multiprocessing.Process(target=print_number, args=(i,))\n",
    "        processes.append(process)\n",
    "        \n",
    "        # Start the process\n",
    "        process.start()\n",
    "\n",
    "    # Wait for all processes to finish\n",
    "    for process in processes:\n",
    "        process.join()\n",
    "\n",
    "    print(\"All processes have finished.\")\n"
   ]
  },
  {
   "cell_type": "code",
   "execution_count": null,
   "id": "3fd4e20d-b5ea-4ffc-9a76-423b8fec325b",
   "metadata": {},
   "outputs": [],
   "source": []
  }
 ],
 "metadata": {
  "kernelspec": {
   "display_name": "Python 3 (ipykernel)",
   "language": "python",
   "name": "python3"
  },
  "language_info": {
   "codemirror_mode": {
    "name": "ipython",
    "version": 3
   },
   "file_extension": ".py",
   "mimetype": "text/x-python",
   "name": "python",
   "nbconvert_exporter": "python",
   "pygments_lexer": "ipython3",
   "version": "3.10.8"
  }
 },
 "nbformat": 4,
 "nbformat_minor": 5
}
